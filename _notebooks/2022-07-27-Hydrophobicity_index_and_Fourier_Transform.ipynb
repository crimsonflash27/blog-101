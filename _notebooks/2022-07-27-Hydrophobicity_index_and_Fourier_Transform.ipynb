{
 "cells": [
  {
   "cell_type": "markdown",
   "id": "b9e31aad",
   "metadata": {},
   "source": [
    "# \"Alternate AA index and Fourier Transform\"\n",
    ">Hydrophobicity Index and Fast Fourier Transform\n",
    "\n",
    "- toc: true \n",
    "- badges: true\n",
    "- comments: true\n",
    "- categories: [Part-4 - Hydrophobicity index and FFT]\n",
    "\n",
    "\n"
   ]
  },
  {
   "cell_type": "markdown",
   "id": "cb66f7fe",
   "metadata": {},
   "source": [
    "## Alternate AAindex - Hydrophobicity\n",
    "\n",
    "In this post, we will be trying an alternative AAindex - Amino Acid Index - called Hydrophobicity index and also look into incorporating Fourier Transform into the proceedings. \n",
    "\n",
    "The First Section will just be a repeat of the Data Engineering process already introduced in the previous sections of the blog, with the only edit being that we are using a different AAindex. So, please feel free to skip to the Linear Regression section.  "
   ]
  },
  {
   "cell_type": "code",
   "execution_count": 1,
   "id": "781950d1",
   "metadata": {},
   "outputs": [],
   "source": [
    "import pandas as pd\n",
    "import numpy as np"
   ]
  },
  {
   "cell_type": "code",
   "execution_count": 2,
   "id": "a8239083",
   "metadata": {},
   "outputs": [],
   "source": [
    "h_index = pd.read_csv(\"hydrophobicity_index.csv\")"
   ]
  },
  {
   "cell_type": "code",
   "execution_count": 9,
   "id": "fc4ad8d2",
   "metadata": {},
   "outputs": [
    {
     "data": {
      "text/html": [
       "<div>\n",
       "<style scoped>\n",
       "    .dataframe tbody tr th:only-of-type {\n",
       "        vertical-align: middle;\n",
       "    }\n",
       "\n",
       "    .dataframe tbody tr th {\n",
       "        vertical-align: top;\n",
       "    }\n",
       "\n",
       "    .dataframe thead th {\n",
       "        text-align: right;\n",
       "    }\n",
       "</style>\n",
       "<table border=\"1\" class=\"dataframe\">\n",
       "  <thead>\n",
       "    <tr style=\"text-align: right;\">\n",
       "      <th></th>\n",
       "      <th>A</th>\n",
       "      <th>R</th>\n",
       "      <th>N</th>\n",
       "      <th>D</th>\n",
       "      <th>C</th>\n",
       "      <th>Q</th>\n",
       "      <th>E</th>\n",
       "      <th>G</th>\n",
       "      <th>H</th>\n",
       "      <th>I</th>\n",
       "      <th>L</th>\n",
       "      <th>K</th>\n",
       "      <th>M</th>\n",
       "      <th>F</th>\n",
       "      <th>P</th>\n",
       "      <th>S</th>\n",
       "      <th>T</th>\n",
       "      <th>W</th>\n",
       "      <th>Y</th>\n",
       "      <th>V</th>\n",
       "    </tr>\n",
       "  </thead>\n",
       "  <tbody>\n",
       "    <tr>\n",
       "      <th>0</th>\n",
       "      <td>0.61</td>\n",
       "      <td>0.6</td>\n",
       "      <td>0.06</td>\n",
       "      <td>0.46</td>\n",
       "      <td>1.07</td>\n",
       "      <td>0.0</td>\n",
       "      <td>0.47</td>\n",
       "      <td>0.07</td>\n",
       "      <td>0.61</td>\n",
       "      <td>2.22</td>\n",
       "      <td>1.53</td>\n",
       "      <td>1.15</td>\n",
       "      <td>1.18</td>\n",
       "      <td>2.02</td>\n",
       "      <td>1.95</td>\n",
       "      <td>0.05</td>\n",
       "      <td>0.05</td>\n",
       "      <td>2.65</td>\n",
       "      <td>1.88</td>\n",
       "      <td>1.32</td>\n",
       "    </tr>\n",
       "  </tbody>\n",
       "</table>\n",
       "</div>"
      ],
      "text/plain": [
       "      A    R     N     D     C    Q     E     G     H     I     L     K     M  \\\n",
       "0  0.61  0.6  0.06  0.46  1.07  0.0  0.47  0.07  0.61  2.22  1.53  1.15  1.18   \n",
       "\n",
       "      F     P     S     T     W     Y     V  \n",
       "0  2.02  1.95  0.05  0.05  2.65  1.88  1.32  "
      ]
     },
     "execution_count": 9,
     "metadata": {},
     "output_type": "execute_result"
    }
   ],
   "source": [
    "h_index.iloc[:1]"
   ]
  },
  {
   "cell_type": "code",
   "execution_count": 10,
   "id": "c7b7f97f",
   "metadata": {},
   "outputs": [],
   "source": [
    "h_dict = {}\n",
    "for i in h_index.columns:\n",
    "    h_dict[i] = h_index[i][0]"
   ]
  },
  {
   "cell_type": "markdown",
   "id": "442d0ec8",
   "metadata": {},
   "source": [
    "Dictionary with the Hydrophobicity indexes"
   ]
  },
  {
   "cell_type": "code",
   "execution_count": 11,
   "id": "6225d0a8",
   "metadata": {},
   "outputs": [
    {
     "data": {
      "text/plain": [
       "{'A': 0.61,\n",
       " 'R': 0.6,\n",
       " 'N': 0.06,\n",
       " 'D': 0.46,\n",
       " 'C': 1.07,\n",
       " 'Q': 0.0,\n",
       " 'E': 0.47,\n",
       " 'G': 0.07,\n",
       " 'H': 0.61,\n",
       " 'I': 2.22,\n",
       " 'L': 1.53,\n",
       " 'K': 1.15,\n",
       " 'M': 1.18,\n",
       " 'F': 2.02,\n",
       " 'P': 1.95,\n",
       " 'S': 0.05,\n",
       " 'T': 0.05,\n",
       " 'W': 2.65,\n",
       " 'Y': 1.88,\n",
       " 'V': 1.32}"
      ]
     },
     "execution_count": 11,
     "metadata": {},
     "output_type": "execute_result"
    }
   ],
   "source": [
    "#Dictionary with hydrophobicity indexes\n",
    "h_dict"
   ]
  },
  {
   "cell_type": "code",
   "execution_count": 72,
   "id": "a48ba343",
   "metadata": {},
   "outputs": [
    {
     "name": "stdout",
     "output_type": "stream",
     "text": [
      "  Type   Sequence  EE     G\n",
      "0   WT  LARLTTMLC   4 -0.85\n",
      "1    1  FARLTTMLC  12 -1.50\n",
      "2    2  LNRLTTMLC   7 -1.17\n",
      "3    3  LASLTTMLC   4 -0.85\n",
      "4    4  LARYTTMLC   4 -0.85\n",
      "5    5  LARLWTMLC  12 -1.50\n",
      "6    6  LARLTVMLC   4 -0.85\n",
      "7    7  LARLTTPLC   6 -1.08\n",
      "8    8  LARLTTMYC   4 -0.85\n",
      "9    9  LARLTTMLV   5 -0.97\n",
      "     Sequence     G\n",
      "0   FNSLTTMLC -1.68\n",
      "1   LARLTTPYC -0.87\n",
      "2   LARLWVMLC -1.68\n",
      "3   FNSLTTPYC -1.84\n",
      "4   FNSLTTMLV -1.67\n",
      "5   FNSLWVMLC -2.19\n",
      "6   FNSYTTMLC -1.93\n",
      "7   LARLTTPYV -0.90\n",
      "8   LARLWVPYC -1.30\n",
      "9   LARYTTPYC -0.98\n",
      "10  LARLWVMLV -1.73\n",
      "11  LARYTTMLV -0.89\n",
      "12  LARYWVMLC -1.88\n",
      "13  FNSLTTPYV -1.92\n",
      "14  FNSLWVPYC -2.15\n",
      "15  FNSYTTPYC -1.96\n",
      "16  FNSLWVMLV -2.41\n",
      "17  FNSYTTMLV -1.85\n",
      "18  FNSYWVMLC -2.37\n",
      "19  LARLWVPYV -1.51\n",
      "20  LARYTTPYV -0.92\n",
      "21  LARYWVPYC -1.75\n",
      "22  LARYWVMLV -1.74\n",
      "23  FNSYTTPYV -2.57\n",
      "24  FNSLWVPYV -2.09\n",
      "25  FNSYWVPYC -2.32\n",
      "26  FNSYWVMLV -2.73\n",
      "27  FNSYWVPYV -2.87\n"
     ]
    }
   ],
   "source": [
    "train_data = pd.read_csv(\"ee_train.csv\")\n",
    "test_data = pd.read_csv(\"ee_test.csv\")\n",
    "print(train_data)\n",
    "print(test_data)"
   ]
  },
  {
   "cell_type": "code",
   "execution_count": 73,
   "id": "5edb6bc9",
   "metadata": {},
   "outputs": [],
   "source": [
    "#Converting sequence to hydrophobicity indexes\n",
    "def convert_seq(x):\n",
    "    list_seq = []\n",
    "    for i in x:\n",
    "        list_seq.append(h_dict[i])\n",
    "    return list_seq\n",
    "        "
   ]
  },
  {
   "cell_type": "code",
   "execution_count": 74,
   "id": "3cd9e0df",
   "metadata": {},
   "outputs": [
    {
     "name": "stdout",
     "output_type": "stream",
     "text": [
      "[1.53, 0.61, 0.6, 1.53, 0.05, 0.05, 1.18, 1.53, 1.07]\n"
     ]
    }
   ],
   "source": [
    "print(convert_seq('LARLTTMLC'))"
   ]
  },
  {
   "cell_type": "code",
   "execution_count": 75,
   "id": "7420b5c9",
   "metadata": {},
   "outputs": [],
   "source": [
    "x_train = list(map(convert_seq,train_data[\"Sequence\"]))\n",
    "x_test = list(map(convert_seq,test_data[\"Sequence\"]))"
   ]
  },
  {
   "cell_type": "code",
   "execution_count": 76,
   "id": "7d992e78",
   "metadata": {},
   "outputs": [
    {
     "data": {
      "text/plain": [
       "[[1.53, 0.61, 0.6, 1.53, 0.05, 0.05, 1.18, 1.53, 1.07],\n",
       " [2.02, 0.61, 0.6, 1.53, 0.05, 0.05, 1.18, 1.53, 1.07],\n",
       " [1.53, 0.06, 0.6, 1.53, 0.05, 0.05, 1.18, 1.53, 1.07],\n",
       " [1.53, 0.61, 0.05, 1.53, 0.05, 0.05, 1.18, 1.53, 1.07],\n",
       " [1.53, 0.61, 0.6, 1.88, 0.05, 0.05, 1.18, 1.53, 1.07],\n",
       " [1.53, 0.61, 0.6, 1.53, 2.65, 0.05, 1.18, 1.53, 1.07],\n",
       " [1.53, 0.61, 0.6, 1.53, 0.05, 1.32, 1.18, 1.53, 1.07],\n",
       " [1.53, 0.61, 0.6, 1.53, 0.05, 0.05, 1.95, 1.53, 1.07],\n",
       " [1.53, 0.61, 0.6, 1.53, 0.05, 0.05, 1.18, 1.88, 1.07],\n",
       " [1.53, 0.61, 0.6, 1.53, 0.05, 0.05, 1.18, 1.53, 1.32]]"
      ]
     },
     "execution_count": 76,
     "metadata": {},
     "output_type": "execute_result"
    }
   ],
   "source": [
    "x_train"
   ]
  },
  {
   "cell_type": "code",
   "execution_count": 77,
   "id": "4c8b1ec4",
   "metadata": {},
   "outputs": [],
   "source": [
    "y_train = train_data[\"G\"]\n"
   ]
  },
  {
   "cell_type": "code",
   "execution_count": 78,
   "id": "33884141",
   "metadata": {},
   "outputs": [],
   "source": [
    "y_test = test_data[\"G\"]"
   ]
  },
  {
   "cell_type": "markdown",
   "id": "4e6f0d5e",
   "metadata": {},
   "source": [
    "## Simple Linear Regression ##\n"
   ]
  },
  {
   "cell_type": "code",
   "execution_count": 79,
   "id": "492404a3",
   "metadata": {},
   "outputs": [],
   "source": [
    "from sklearn.linear_model import LinearRegression\n",
    "reg = LinearRegression() "
   ]
  },
  {
   "cell_type": "code",
   "execution_count": 80,
   "id": "cd1af798",
   "metadata": {},
   "outputs": [
    {
     "data": {
      "text/plain": [
       "LinearRegression()"
      ]
     },
     "execution_count": 80,
     "metadata": {},
     "output_type": "execute_result"
    }
   ],
   "source": [
    "#fitting the model\n",
    "reg.fit(x_train,y_train)"
   ]
  },
  {
   "cell_type": "code",
   "execution_count": 81,
   "id": "a964842d",
   "metadata": {},
   "outputs": [],
   "source": [
    "prediction = reg.predict(x_test)"
   ]
  },
  {
   "cell_type": "code",
   "execution_count": 82,
   "id": "84bb3965",
   "metadata": {},
   "outputs": [
    {
     "name": "stdout",
     "output_type": "stream",
     "text": [
      "[-1.82 -1.08 -1.5  -2.05 -1.94 -2.47 -1.82 -1.2  -1.73 -1.08 -1.62 -0.97\n",
      " -1.5  -2.17 -2.7  -2.05 -2.59 -1.94 -2.47 -1.85 -1.2  -1.73 -1.62 -2.17\n",
      " -2.82 -2.7  -2.59 -2.82]\n"
     ]
    }
   ],
   "source": [
    "print(prediction)"
   ]
  },
  {
   "cell_type": "markdown",
   "id": "c8a35a4f",
   "metadata": {},
   "source": [
    "**R2 Score for Test Set**"
   ]
  },
  {
   "cell_type": "code",
   "execution_count": 83,
   "id": "720d0d89",
   "metadata": {},
   "outputs": [
    {
     "data": {
      "text/plain": [
       "0.730824152182818"
      ]
     },
     "execution_count": 83,
     "metadata": {},
     "output_type": "execute_result"
    }
   ],
   "source": [
    "from sklearn.metrics import r2_score\n",
    "r2_score(y_test,prediction)"
   ]
  },
  {
   "cell_type": "markdown",
   "id": "693ec18c",
   "metadata": {},
   "source": [
    "As promised, i did try the same simple linear regression model with another AAindex and we get results similar to the one we obtained with the EIIP AAindex and the One-Hot model. This trend continues throughout for the closed form linear regression model, and hence we will not be considering it for our task."
   ]
  },
  {
   "cell_type": "markdown",
   "id": "e9fcfe30",
   "metadata": {},
   "source": [
    "## SVR "
   ]
  },
  {
   "cell_type": "code",
   "execution_count": 84,
   "id": "eae851f8",
   "metadata": {},
   "outputs": [],
   "source": [
    "from sklearn.svm import SVR"
   ]
  },
  {
   "cell_type": "markdown",
   "id": "878e637e",
   "metadata": {},
   "source": [
    "The parameters we are considering for SVR"
   ]
  },
  {
   "cell_type": "code",
   "execution_count": 85,
   "id": "733acae3",
   "metadata": {},
   "outputs": [],
   "source": [
    "parameters = ['linear','poly','rbf','sigmoid']"
   ]
  },
  {
   "cell_type": "markdown",
   "id": "282d7ffd",
   "metadata": {},
   "source": [
    "**Default SVR**"
   ]
  },
  {
   "cell_type": "code",
   "execution_count": 86,
   "id": "f2897ac9",
   "metadata": {},
   "outputs": [
    {
     "name": "stdout",
     "output_type": "stream",
     "text": [
      "0.6209572424941144\n"
     ]
    }
   ],
   "source": [
    "svr = SVR()\n",
    "svr.fit(x_train,y_train)\n",
    "print(svr.score(x_train,y_train))"
   ]
  },
  {
   "cell_type": "code",
   "execution_count": 87,
   "id": "30bbe561",
   "metadata": {},
   "outputs": [
    {
     "data": {
      "text/plain": [
       "array([-1.17149025, -0.98769153, -1.30984363, -1.16435546, -1.17187482,\n",
       "       -1.29976936, -1.15932717, -0.99132529, -1.28701036, -0.98135599,\n",
       "       -1.3077824 , -0.95447213, -1.30433144, -1.16486616, -1.27907534,\n",
       "       -1.15482163, -1.29788623, -1.15992676, -1.2949261 , -1.28535278,\n",
       "       -0.98510175, -1.28256079, -1.30236765, -1.15550087, -1.27755803,\n",
       "       -1.27516159, -1.29312858, -1.27371347])"
      ]
     },
     "execution_count": 87,
     "metadata": {},
     "output_type": "execute_result"
    }
   ],
   "source": [
    "svr.predict(x_test)"
   ]
  },
  {
   "cell_type": "markdown",
   "id": "c3d6f737",
   "metadata": {},
   "source": [
    "**Test Score for the default SVR**"
   ]
  },
  {
   "cell_type": "code",
   "execution_count": 88,
   "id": "8c00a742",
   "metadata": {},
   "outputs": [
    {
     "name": "stdout",
     "output_type": "stream",
     "text": [
      "-1.0037826636263079\n"
     ]
    }
   ],
   "source": [
    "print(svr.score(x_test,y_test))"
   ]
  },
  {
   "cell_type": "markdown",
   "id": "026eb372",
   "metadata": {},
   "source": [
    "**5 - Fold Cross Validation**"
   ]
  },
  {
   "cell_type": "code",
   "execution_count": 89,
   "id": "b9561ce7",
   "metadata": {},
   "outputs": [],
   "source": [
    "from sklearn.model_selection import KFold\n",
    "x = np.array(x_train + x_test)\n",
    "y = np.array(y_train.tolist() + y_test.tolist())"
   ]
  },
  {
   "cell_type": "markdown",
   "id": "2dee2308",
   "metadata": {},
   "source": [
    "The following method of 5-fold cross validation for finding the ideal parameter, is repeated across all the experiments with different AAindexes. "
   ]
  },
  {
   "cell_type": "code",
   "execution_count": 90,
   "id": "c9d934ab",
   "metadata": {},
   "outputs": [],
   "source": [
    "kf = KFold(n_splits= 5,shuffle = True,random_state = 40)\n",
    "\n",
    "train_sets_x = []\n",
    "train_sets_y = []\n",
    "test_sets_x = []\n",
    "test_sets_y = []\n",
    "for train,test in kf.split(x):\n",
    "    \n",
    "    train_sets_x.append(x[train])\n",
    "    train_sets_y.append(y[train])\n",
    "    test_sets_x.append(x[test])\n",
    "    test_sets_y.append(y[test])\n",
    "    "
   ]
  },
  {
   "cell_type": "code",
   "execution_count": 91,
   "id": "85a67025",
   "metadata": {},
   "outputs": [],
   "source": [
    "def avg(x):\n",
    "    return sum(x)/len(x)"
   ]
  },
  {
   "cell_type": "code",
   "execution_count": 92,
   "id": "69fd8f6b",
   "metadata": {},
   "outputs": [],
   "source": [
    "scores_train = {}\n",
    "scores_test = {}\n",
    "for i in parameters:\n",
    "    n = 0\n",
    "    svr = SVR(kernel = i)\n",
    "    demo_test = []\n",
    "    demo_train = []\n",
    "    while n < 5:\n",
    "        x_train_k = train_sets_x[n]\n",
    "        y_train_k = train_sets_y[n]\n",
    "        x_test_k = test_sets_x[n]\n",
    "        y_test_k = test_sets_y[n]\n",
    "        svr.fit(x_train_k,y_train_k)\n",
    "        demo_train.append(svr.score(x_train_k,y_train_k))\n",
    "        demo_test.append(svr.score(x_test_k,y_test_k))\n",
    "        n+=1\n",
    "    scores_train[i] = avg(demo_train)\n",
    "    scores_test[i] = avg(demo_test)"
   ]
  },
  {
   "cell_type": "markdown",
   "id": "017d334f",
   "metadata": {},
   "source": [
    "**Average Training Scores for each of the Kernels**"
   ]
  },
  {
   "cell_type": "code",
   "execution_count": 93,
   "id": "39596c6a",
   "metadata": {},
   "outputs": [
    {
     "data": {
      "text/plain": [
       "{'linear': 0.9094324956856991,\n",
       " 'poly': 0.9666186481450667,\n",
       " 'rbf': 0.8924190599961588,\n",
       " 'sigmoid': 0.03987006846426018}"
      ]
     },
     "execution_count": 93,
     "metadata": {},
     "output_type": "execute_result"
    }
   ],
   "source": [
    "scores_train"
   ]
  },
  {
   "cell_type": "markdown",
   "id": "8b81ca00",
   "metadata": {},
   "source": [
    "**Average Test Scores for each of the Kernels**"
   ]
  },
  {
   "cell_type": "code",
   "execution_count": 94,
   "id": "3d5e7bdf",
   "metadata": {},
   "outputs": [
    {
     "data": {
      "text/plain": [
       "{'linear': 0.828073023893024,\n",
       " 'poly': 0.8944167592225953,\n",
       " 'rbf': 0.8514916868496585,\n",
       " 'sigmoid': -0.4109411142456857}"
      ]
     },
     "execution_count": 94,
     "metadata": {},
     "output_type": "execute_result"
    }
   ],
   "source": [
    "scores_test"
   ]
  },
  {
   "cell_type": "markdown",
   "id": "4717b052",
   "metadata": {},
   "source": [
    "From the above scores, it is evident that the polynomial kernel performs the best. So, we are going to go with that."
   ]
  },
  {
   "cell_type": "markdown",
   "id": "bc611590",
   "metadata": {},
   "source": [
    "**Training Score for the polynomial kernel**"
   ]
  },
  {
   "cell_type": "code",
   "execution_count": 95,
   "id": "d3bed0a7",
   "metadata": {},
   "outputs": [
    {
     "name": "stdout",
     "output_type": "stream",
     "text": [
      "0.8755959967194292\n"
     ]
    }
   ],
   "source": [
    "svr = SVR(kernel = \"poly\")\n",
    "svr.fit(x_train,y_train)\n",
    "print(svr.score(x_train,y_train))"
   ]
  },
  {
   "cell_type": "markdown",
   "id": "5caf6cca",
   "metadata": {},
   "source": [
    "**Test Score for the polynomial kernel**"
   ]
  },
  {
   "cell_type": "code",
   "execution_count": 96,
   "id": "61ec1864",
   "metadata": {},
   "outputs": [
    {
     "name": "stdout",
     "output_type": "stream",
     "text": [
      "0.6723543903416969\n"
     ]
    }
   ],
   "source": [
    "print(svr.score(x_test,y_test))"
   ]
  },
  {
   "cell_type": "code",
   "execution_count": 97,
   "id": "ec104d8f",
   "metadata": {},
   "outputs": [
    {
     "data": {
      "text/plain": [
       "array([-1.46114467, -1.02375865, -1.40385193, -1.67735176, -1.50871657,\n",
       "       -1.93812487, -1.51127952, -1.04666127, -1.57058112, -1.01227782,\n",
       "       -1.44309145, -0.97118722, -1.43612546, -1.72874969, -2.25041533,\n",
       "       -1.72276683, -2.00312591, -1.55897144, -2.02189508, -1.61201774,\n",
       "       -1.03372668, -1.59476383, -1.47486817, -1.77391459, -2.3208858 ,\n",
       "       -2.33256065, -2.08760292, -2.40336772])"
      ]
     },
     "execution_count": 97,
     "metadata": {},
     "output_type": "execute_result"
    }
   ],
   "source": [
    "svr.predict(x_test)"
   ]
  },
  {
   "cell_type": "markdown",
   "id": "bd0e40b8",
   "metadata": {},
   "source": [
    "The epistatic interaction study of all the different amino acid indexes will be presented in a later post. "
   ]
  },
  {
   "cell_type": "markdown",
   "id": "44af5386",
   "metadata": {},
   "source": [
    "## Trying Fourier Transform:\n",
    "\n",
    "The main objective for performing Fourier Transform is to introduce a method that can help capture epistasis. The crux of Fourier Transform is its ability to turn the numerical sequence into a spectrum. The spectrum created by the method will vary entirely if even one amino acid is replace by another, thus capturing the impact of the mutation on a global level."
   ]
  },
  {
   "cell_type": "markdown",
   "id": "e377729f",
   "metadata": {},
   "source": [
    "We will be using the fft package in Scientific Python(Scipy). "
   ]
  },
  {
   "cell_type": "code",
   "execution_count": 113,
   "id": "f80fe89e",
   "metadata": {},
   "outputs": [],
   "source": [
    "from scipy.fft import fft"
   ]
  },
  {
   "cell_type": "markdown",
   "id": "b4e1093e",
   "metadata": {},
   "source": [
    "The Fourier transformed sequence will be a complex number, with a real and imaginary half. \n",
    "\n",
    "In our case, we will only be using the real values of the spectrum created by the Fourier Transform."
   ]
  },
  {
   "cell_type": "code",
   "execution_count": 114,
   "id": "fc8d0246",
   "metadata": {},
   "outputs": [
    {
     "data": {
      "text/plain": [
       "array([ 8.15      ,  1.73785602, -1.4582119 ,  2.285     ,  0.24535588,\n",
       "        0.24535588,  2.285     , -1.4582119 ,  1.73785602])"
      ]
     },
     "execution_count": 114,
     "metadata": {},
     "output_type": "execute_result"
    }
   ],
   "source": [
    "fft(x_train[0]).real"
   ]
  },
  {
   "cell_type": "code",
   "execution_count": 115,
   "id": "415bfd83",
   "metadata": {},
   "outputs": [
    {
     "data": {
      "text/plain": [
       "array([ 7.54      ,  1.71102508, -0.54688746,  3.325     ,  0.83086238,\n",
       "        0.83086238,  3.325     , -0.54688746,  1.71102508])"
      ]
     },
     "execution_count": 115,
     "metadata": {},
     "output_type": "execute_result"
    }
   ],
   "source": [
    "fft(x_test[0]).real"
   ]
  },
  {
   "cell_type": "code",
   "execution_count": 116,
   "id": "b7ee367b",
   "metadata": {},
   "outputs": [],
   "source": [
    "fft_x_train = fft(x_train).real.tolist()\n",
    "fft_x_test = fft(x_test).real.tolist()"
   ]
  },
  {
   "cell_type": "markdown",
   "id": "a91be3b6",
   "metadata": {},
   "source": [
    ">**Lets do the model**"
   ]
  },
  {
   "cell_type": "code",
   "execution_count": 117,
   "id": "c2dcc366",
   "metadata": {},
   "outputs": [],
   "source": [
    "from sklearn.linear_model import LinearRegression\n",
    "reg = LinearRegression() "
   ]
  },
  {
   "cell_type": "code",
   "execution_count": 118,
   "id": "41453195",
   "metadata": {},
   "outputs": [
    {
     "data": {
      "text/plain": [
       "LinearRegression()"
      ]
     },
     "execution_count": 118,
     "metadata": {},
     "output_type": "execute_result"
    }
   ],
   "source": [
    "reg.fit(fft_x_train,y_train)"
   ]
  },
  {
   "cell_type": "markdown",
   "id": "a0818f79",
   "metadata": {},
   "source": [
    "**Training Score for Linear Regression with FFT**"
   ]
  },
  {
   "cell_type": "code",
   "execution_count": 119,
   "id": "2c34d7a3",
   "metadata": {},
   "outputs": [
    {
     "data": {
      "text/plain": [
       "0.768712883858722"
      ]
     },
     "execution_count": 119,
     "metadata": {},
     "output_type": "execute_result"
    }
   ],
   "source": [
    "reg.score(fft_x_train,y_train)"
   ]
  },
  {
   "cell_type": "code",
   "execution_count": 120,
   "id": "c96d802d",
   "metadata": {},
   "outputs": [],
   "source": [
    "prediction_fft = reg.predict(fft_x_test)"
   ]
  },
  {
   "cell_type": "code",
   "execution_count": 121,
   "id": "48017357",
   "metadata": {},
   "outputs": [
    {
     "data": {
      "text/plain": [
       "array([-1.70032707, -1.03948807, -1.60929966, -1.86214102, -1.60601353,\n",
       "       -2.43195262, -1.77180701, -0.94517453, -1.77111361, -1.110968  ,\n",
       "       -1.51498612, -0.85484051, -1.6807796 , -1.76782749, -2.59376657,\n",
       "       -1.93362096, -2.33763908, -1.67749347, -2.50343256, -1.67680008,\n",
       "       -1.01665447, -1.84259355, -1.58646606, -1.83930742, -2.49945303,\n",
       "       -2.66524651, -2.40911902, -2.57093297])"
      ]
     },
     "execution_count": 121,
     "metadata": {},
     "output_type": "execute_result"
    }
   ],
   "source": [
    "prediction_fft"
   ]
  },
  {
   "cell_type": "markdown",
   "id": "bfc37c80",
   "metadata": {},
   "source": [
    "**Test Score for Linear Regression with FFT**"
   ]
  },
  {
   "cell_type": "code",
   "execution_count": 122,
   "id": "7ade68f6",
   "metadata": {},
   "outputs": [
    {
     "data": {
      "text/plain": [
       "0.7832096880762189"
      ]
     },
     "execution_count": 122,
     "metadata": {},
     "output_type": "execute_result"
    }
   ],
   "source": [
    "from sklearn.metrics import r2_score\n",
    "r2_score(y_test,prediction_fft)"
   ]
  },
  {
   "cell_type": "markdown",
   "id": "dc29b08b",
   "metadata": {},
   "source": [
    "**Even if its a simple linear regression , we are getting much better results by Fourier Transforming the numerical sequences.**"
   ]
  },
  {
   "cell_type": "markdown",
   "id": "dd6a5700",
   "metadata": {},
   "source": [
    "## Iterative Regression \n",
    "\n",
    "The interative process being followed here is an exact replica of the one shown in the iterative regression section of the blog."
   ]
  },
  {
   "cell_type": "code",
   "execution_count": 123,
   "id": "70d36dce",
   "metadata": {},
   "outputs": [],
   "source": [
    "from sklearn.model_selection import train_test_split\n",
    "from scipy.stats import pearsonr\n",
    "import matplotlib.pyplot as plt"
   ]
  },
  {
   "cell_type": "code",
   "execution_count": 124,
   "id": "3095351f",
   "metadata": {},
   "outputs": [],
   "source": [
    "x = x_train + x_test\n",
    "y = y_train.tolist() + y_test.tolist()"
   ]
  },
  {
   "cell_type": "code",
   "execution_count": 125,
   "id": "db5773c7",
   "metadata": {},
   "outputs": [],
   "source": [
    "list_train_error = []\n",
    "list_test_error = []\n",
    "list_test_pr = []\n",
    "for i in range(0,100):\n",
    "    #The random state is varying \n",
    "    x_train,x_test,y_train,y_test = train_test_split(x,y,test_size = 0.25,random_state = i)\n",
    "    reg = LinearRegression()\n",
    "    reg.fit(x_train,y_train)\n",
    "    prediction = reg.predict(x_test)\n",
    "    list_train_error.append(reg.score(x_train,y_train))\n",
    "    list_test_error.append(reg.score(x_test,y_test))\n",
    "    corr, _ = pearsonr(y_test, prediction)\n",
    "    list_test_pr.append(corr)\n",
    "    \n",
    "    "
   ]
  },
  {
   "cell_type": "code",
   "execution_count": 126,
   "id": "67742873",
   "metadata": {},
   "outputs": [
    {
     "data": {
      "text/plain": [
       "<function matplotlib.pyplot.show(close=None, block=None)>"
      ]
     },
     "execution_count": 126,
     "metadata": {},
     "output_type": "execute_result"
    },
    {
     "data": {
      "image/png": "[encoded data removed]",
      "text/plain": [
       "<Figure size 432x288 with 1 Axes>"
      ]
     },
     "metadata": {
      "needs_background": "light"
     },
     "output_type": "display_data"
    }
   ],
   "source": [
    "plt.plot(range(0,100),list_train_error , c=\"red\")\n",
    "plt.xlabel(\"Iteration\")\n",
    "plt.ylabel(\"Regression score\")\n",
    "plt.title(\"Training score through iterations\")\n",
    "plt.ylim([-1,1])\n",
    "plt.show"
   ]
  },
  {
   "cell_type": "code",
   "execution_count": 127,
   "id": "b31c0f63",
   "metadata": {},
   "outputs": [
    {
     "data": {
      "text/plain": [
       "<function matplotlib.pyplot.show(close=None, block=None)>"
      ]
     },
     "execution_count": 127,
     "metadata": {},
     "output_type": "execute_result"
    },
    {
     "data": {
      "image/png": "[encoded data removed]",
      "text/plain": [
       "<Figure size 432x288 with 1 Axes>"
      ]
     },
     "metadata": {
      "needs_background": "light"
     },
     "output_type": "display_data"
    }
   ],
   "source": [
    "plt.plot(range(0,100),list_test_error , c=\"red\")\n",
    "plt.xlabel(\"Iteration\")\n",
    "plt.ylabel(\"Regression score\")\n",
    "plt.title(\"Test score through iterations\")\n",
    "plt.ylim([-1,1])\n",
    "plt.show"
   ]
  },
  {
   "cell_type": "markdown",
   "id": "1053ef8b",
   "metadata": {},
   "source": [
    "The results dont look very promising. Lets try using the one-hot encoded data and see what we get:"
   ]
  },
  {
   "cell_type": "markdown",
   "id": "44fa034f",
   "metadata": {},
   "source": [
    "## Iterative Regression for Fourier Transform"
   ]
  },
  {
   "cell_type": "code",
   "execution_count": 132,
   "id": "225c2476",
   "metadata": {},
   "outputs": [],
   "source": [
    "x_fft = fft(x).real\n",
    "#Taking only the real part of the fourier transform"
   ]
  },
  {
   "cell_type": "code",
   "execution_count": 133,
   "id": "05b23f37",
   "metadata": {},
   "outputs": [],
   "source": [
    "list_train_error_fft = []\n",
    "list_test_error_fft = []\n",
    "list_test_pr_fft = []\n",
    "for i in range(0,100):\n",
    "    #The random state is varying \n",
    "    x_train,x_test,y_train,y_test = train_test_split(x_fft,y,test_size = 0.25,random_state = i)\n",
    "    reg = LinearRegression()\n",
    "    reg.fit(x_train,y_train)\n",
    "    prediction = reg.predict(x_test)\n",
    "    list_train_error_fft.append(reg.score(x_train,y_train))\n",
    "    list_test_error_fft.append(reg.score(x_test,y_test))\n",
    "    corr, _ = pearsonr(y_test, prediction)\n",
    "    list_test_pr_fft.append(corr)"
   ]
  },
  {
   "cell_type": "code",
   "execution_count": 134,
   "id": "fd167e3b",
   "metadata": {},
   "outputs": [
    {
     "data": {
      "text/plain": [
       "<function matplotlib.pyplot.show(close=None, block=None)>"
      ]
     },
     "execution_count": 134,
     "metadata": {},
     "output_type": "execute_result"
    },
    {
     "data": {
      "image/png": "[encoded data removed]",
      "text/plain": [
       "<Figure size 432x288 with 1 Axes>"
      ]
     },
     "metadata": {
      "needs_background": "light"
     },
     "output_type": "display_data"
    }
   ],
   "source": [
    "plt.plot(range(0,100),list_train_error_fft , c=\"red\")\n",
    "plt.xlabel(\"Iteration\")\n",
    "plt.ylabel(\"Regression score\")\n",
    "plt.title(\"Training score through iterations\")\n",
    "plt.ylim([-1,1])\n",
    "plt.show"
   ]
  },
  {
   "cell_type": "code",
   "execution_count": 135,
   "id": "7f5aa694",
   "metadata": {},
   "outputs": [
    {
     "data": {
      "text/plain": [
       "<function matplotlib.pyplot.show(close=None, block=None)>"
      ]
     },
     "execution_count": 135,
     "metadata": {},
     "output_type": "execute_result"
    },
    {
     "data": {
      "image/png": "[encoded data removed]",
      "text/plain": [
       "<Figure size 432x288 with 1 Axes>"
      ]
     },
     "metadata": {
      "needs_background": "light"
     },
     "output_type": "display_data"
    }
   ],
   "source": [
    "plt.plot(range(0,100),list_test_error_fft , c=\"red\")\n",
    "plt.xlabel(\"Iteration\")\n",
    "plt.ylabel(\"Regression score\")\n",
    "plt.title(\"Test score through iterations\")\n",
    "plt.ylim([-1,1])\n",
    "plt.show"
   ]
  },
  {
   "cell_type": "markdown",
   "id": "ab5b9a0e",
   "metadata": {},
   "source": [
    "**We can very clearly see some very impactful difference if we use Fourier Transform, with the model being more stable across iterations - and this is for a simple linear regression.**"
   ]
  },
  {
   "cell_type": "markdown",
   "id": "bec02ef6",
   "metadata": {},
   "source": [
    "## SVM with Hydrophobicity Index and Fourier Transform"
   ]
  },
  {
   "cell_type": "markdown",
   "id": "ea18880c",
   "metadata": {},
   "source": [
    "Parameters considered for 5-Fold Cross Validation"
   ]
  },
  {
   "cell_type": "code",
   "execution_count": 136,
   "id": "bb294484",
   "metadata": {},
   "outputs": [],
   "source": [
    "parameters = ['linear','poly','rbf','sigmoid']"
   ]
  },
  {
   "cell_type": "code",
   "execution_count": 137,
   "id": "db87be38",
   "metadata": {},
   "outputs": [],
   "source": [
    "from sklearn.model_selection import KFold\n",
    "from sklearn.svm import SVR\n",
    "from sklearn.model_selection import train_test_split\n",
    "from sklearn.metrics import r2_score\n",
    "\n"
   ]
  },
  {
   "cell_type": "code",
   "execution_count": 138,
   "id": "edfeaef2",
   "metadata": {},
   "outputs": [],
   "source": [
    "y_fft = np.array(y)"
   ]
  },
  {
   "cell_type": "code",
   "execution_count": 139,
   "id": "e78ddb48",
   "metadata": {},
   "outputs": [],
   "source": [
    "kf = KFold(n_splits= 5,shuffle = True,random_state = 40)\n",
    "\n",
    "train_sets_x = []\n",
    "train_sets_y = []\n",
    "test_sets_x = []\n",
    "test_sets_y = []\n",
    "for train,test in kf.split(x_fft):\n",
    "    \n",
    "    train_sets_x.append(x_fft[train])\n",
    "    train_sets_y.append(y_fft[train])\n",
    "    test_sets_x.append(x_fft[test])\n",
    "    test_sets_y.append(y_fft[test])\n",
    "    "
   ]
  },
  {
   "cell_type": "code",
   "execution_count": 140,
   "id": "d9ebb3f6",
   "metadata": {},
   "outputs": [],
   "source": [
    "def avg(x):\n",
    "    return sum(x)/len(x)"
   ]
  },
  {
   "cell_type": "code",
   "execution_count": 141,
   "id": "c90f2f98",
   "metadata": {},
   "outputs": [],
   "source": [
    "scores_train = {}\n",
    "scores_test = {}\n",
    "for i in parameters:\n",
    "    n = 0\n",
    "    svr = SVR(kernel = i)\n",
    "    demo_test = []\n",
    "    demo_train = []\n",
    "    while n < 5:\n",
    "        x_train_k = train_sets_x[n]\n",
    "        y_train_k = train_sets_y[n]\n",
    "        x_test_k = test_sets_x[n]\n",
    "        y_test_k = test_sets_y[n]\n",
    "        svr.fit(x_train_k,y_train_k)\n",
    "        demo_train.append(svr.score(x_train_k,y_train_k))\n",
    "        demo_test.append(svr.score(x_test_k,y_test_k))\n",
    "        n+=1\n",
    "    scores_train[i] = avg(demo_train)\n",
    "    scores_test[i] = avg(demo_test)\n",
    "    "
   ]
  },
  {
   "cell_type": "markdown",
   "id": "8ae7c98b",
   "metadata": {},
   "source": [
    "**Average Training Scores for each of the Kernels**"
   ]
  },
  {
   "cell_type": "code",
   "execution_count": 142,
   "id": "a6a7ca3e",
   "metadata": {},
   "outputs": [
    {
     "name": "stdout",
     "output_type": "stream",
     "text": [
      "{'linear': 0.8846354784197722, 'poly': 0.8514339879569572, 'rbf': 0.7871443479542013, 'sigmoid': 0.4729345728207631}\n"
     ]
    }
   ],
   "source": [
    "print(scores_train)"
   ]
  },
  {
   "cell_type": "markdown",
   "id": "6df785be",
   "metadata": {},
   "source": [
    "**Average Test Scores for each of the Kernels**"
   ]
  },
  {
   "cell_type": "code",
   "execution_count": 143,
   "id": "4a9c24d8",
   "metadata": {},
   "outputs": [
    {
     "name": "stdout",
     "output_type": "stream",
     "text": [
      "{'linear': 0.8303784300502087, 'poly': 0.7830411197739757, 'rbf': 0.7242712633776763, 'sigmoid': 0.31122856700085044}\n"
     ]
    }
   ],
   "source": [
    "print(scores_test)"
   ]
  },
  {
   "cell_type": "markdown",
   "id": "768f8dd3",
   "metadata": {},
   "source": [
    "**Linear seems to be the best**"
   ]
  },
  {
   "cell_type": "markdown",
   "id": "2283fadc",
   "metadata": {},
   "source": [
    "#### Iterative SVR Regression ####"
   ]
  },
  {
   "cell_type": "code",
   "execution_count": 144,
   "id": "c80711fa",
   "metadata": {},
   "outputs": [],
   "source": [
    "list_train_error_svr_fft = []\n",
    "list_test_error_svr_fft = []\n",
    "for i in range(0,100):\n",
    "    \n",
    "    x_train,x_test,y_train,y_test = train_test_split(x,y,test_size = 0.25,random_state = i)\n",
    "    svr = SVR(kernel = 'linear')\n",
    "    svr.fit(x_train,y_train)\n",
    "    list_train_error_svr_fft.append(svr.score(x_train,y_train))\n",
    "    list_test_error_svr_fft.append(svr.score(x_test,y_test))\n",
    "    \n",
    "    "
   ]
  },
  {
   "cell_type": "code",
   "execution_count": 145,
   "id": "e716aab2",
   "metadata": {},
   "outputs": [
    {
     "data": {
      "text/plain": [
       "<function matplotlib.pyplot.show(close=None, block=None)>"
      ]
     },
     "execution_count": 145,
     "metadata": {},
     "output_type": "execute_result"
    },
    {
     "data": {
      "image/png": "[encoded data removed]",
      "text/plain": [
       "<Figure size 432x288 with 1 Axes>"
      ]
     },
     "metadata": {
      "needs_background": "light"
     },
     "output_type": "display_data"
    }
   ],
   "source": [
    "plt.plot(range(0,100),list_train_error_svr_fft , c=\"red\")\n",
    "plt.xlabel(\"Iteration\")\n",
    "plt.ylabel(\"SVR score\")\n",
    "plt.title(\"Training score through iterations\")\n",
    "plt.ylim([-1,1])\n",
    "plt.show"
   ]
  },
  {
   "cell_type": "code",
   "execution_count": 146,
   "id": "30a403b8",
   "metadata": {},
   "outputs": [
    {
     "data": {
      "text/plain": [
       "<function matplotlib.pyplot.show(close=None, block=None)>"
      ]
     },
     "execution_count": 146,
     "metadata": {},
     "output_type": "execute_result"
    },
    {
     "data": {
      "image/png": "[encoded data removed]",
      "text/plain": [
       "<Figure size 432x288 with 1 Axes>"
      ]
     },
     "metadata": {
      "needs_background": "light"
     },
     "output_type": "display_data"
    }
   ],
   "source": [
    "plt.plot(range(0,100),list_test_error_svr_fft , c=\"red\")\n",
    "plt.xlabel(\"Iteration\")\n",
    "plt.ylabel(\"SVR score\")\n",
    "plt.title(\"Test score through iterations\")\n",
    "plt.ylim([-1,1])\n",
    "plt.show"
   ]
  },
  {
   "cell_type": "markdown",
   "id": "076a3010",
   "metadata": {},
   "source": [
    "**SVR gives us much more promising results when in tandem with FFT.**"
   ]
  },
  {
   "cell_type": "markdown",
   "id": "c0827e5e",
   "metadata": {},
   "source": [
    "**Now, lets test it on the original train and test dataset split**"
   ]
  },
  {
   "cell_type": "markdown",
   "id": "fc2c9fc9",
   "metadata": {},
   "source": [
    "**Training Score for Linear SVR on the multi-mutant test set**"
   ]
  },
  {
   "cell_type": "code",
   "execution_count": 147,
   "id": "17c39b6c",
   "metadata": {},
   "outputs": [
    {
     "data": {
      "text/plain": [
       "0.7160190789755422"
      ]
     },
     "execution_count": 147,
     "metadata": {},
     "output_type": "execute_result"
    }
   ],
   "source": [
    "svr_fft = SVR(kernel = \"linear\")\n",
    "svr_fft.fit(fft_x_train,train_data[\"G\"])\n",
    "svr_fft.score(fft_x_train,train_data[\"G\"])"
   ]
  },
  {
   "cell_type": "code",
   "execution_count": 148,
   "id": "1c8dc1e1",
   "metadata": {},
   "outputs": [
    {
     "data": {
      "text/plain": [
       "array([-1.53731892, -0.98034462, -1.62772786, -1.58501003, -1.4747318 ,\n",
       "       -2.23239327, -1.5589967 , -0.91775749, -1.67541896, -1.0020224 ,\n",
       "       -1.56514073, -0.89174416, -1.64940563, -1.5224229 , -2.28008437,\n",
       "       -1.60668781, -2.16980614, -1.49640957, -2.25407104, -1.61283184,\n",
       "       -0.93943527, -1.69709674, -1.5868185 , -1.54410068, -2.21749725,\n",
       "       -2.30176215, -2.19148391, -2.23917502])"
      ]
     },
     "execution_count": 148,
     "metadata": {},
     "output_type": "execute_result"
    }
   ],
   "source": [
    "svr_fft.predict(fft_x_test)"
   ]
  },
  {
   "cell_type": "code",
   "execution_count": 92,
   "id": "d7ecd78f",
   "metadata": {
    "scrolled": true
   },
   "outputs": [
    {
     "data": {
      "text/html": [
       "<div>\n",
       "<style scoped>\n",
       "    .dataframe tbody tr th:only-of-type {\n",
       "        vertical-align: middle;\n",
       "    }\n",
       "\n",
       "    .dataframe tbody tr th {\n",
       "        vertical-align: top;\n",
       "    }\n",
       "\n",
       "    .dataframe thead th {\n",
       "        text-align: right;\n",
       "    }\n",
       "</style>\n",
       "<table border=\"1\" class=\"dataframe\">\n",
       "  <thead>\n",
       "    <tr style=\"text-align: right;\">\n",
       "      <th></th>\n",
       "      <th>Additive value</th>\n",
       "      <th>Ground Truth</th>\n",
       "      <th>Prediction</th>\n",
       "      <th>Status</th>\n",
       "    </tr>\n",
       "  </thead>\n",
       "  <tbody>\n",
       "    <tr>\n",
       "      <th>0</th>\n",
       "      <td>-1.82</td>\n",
       "      <td>-1.680</td>\n",
       "      <td>-1.537319</td>\n",
       "      <td>Predicts Negative</td>\n",
       "    </tr>\n",
       "    <tr>\n",
       "      <th>1</th>\n",
       "      <td>-1.08</td>\n",
       "      <td>-0.870</td>\n",
       "      <td>-0.980345</td>\n",
       "      <td>Predicts Negative</td>\n",
       "    </tr>\n",
       "    <tr>\n",
       "      <th>2</th>\n",
       "      <td>-1.50</td>\n",
       "      <td>-1.680</td>\n",
       "      <td>-1.627728</td>\n",
       "      <td>Predicts Positive</td>\n",
       "    </tr>\n",
       "    <tr>\n",
       "      <th>3</th>\n",
       "      <td>-2.05</td>\n",
       "      <td>-1.840</td>\n",
       "      <td>-1.585010</td>\n",
       "      <td>Predicts Negative</td>\n",
       "    </tr>\n",
       "    <tr>\n",
       "      <th>4</th>\n",
       "      <td>-1.94</td>\n",
       "      <td>-1.670</td>\n",
       "      <td>-1.474732</td>\n",
       "      <td>Predicts Negative</td>\n",
       "    </tr>\n",
       "    <tr>\n",
       "      <th>5</th>\n",
       "      <td>-2.47</td>\n",
       "      <td>-2.190</td>\n",
       "      <td>-2.232393</td>\n",
       "      <td>Predicts Negative</td>\n",
       "    </tr>\n",
       "    <tr>\n",
       "      <th>6</th>\n",
       "      <td>-1.82</td>\n",
       "      <td>-1.930</td>\n",
       "      <td>-1.558997</td>\n",
       "      <td>Doesn’t Predict Positive</td>\n",
       "    </tr>\n",
       "    <tr>\n",
       "      <th>7</th>\n",
       "      <td>-1.20</td>\n",
       "      <td>-0.900</td>\n",
       "      <td>-0.917757</td>\n",
       "      <td>Predicts Negative</td>\n",
       "    </tr>\n",
       "    <tr>\n",
       "      <th>8</th>\n",
       "      <td>-1.73</td>\n",
       "      <td>-1.300</td>\n",
       "      <td>-1.675419</td>\n",
       "      <td>Predicts Negative</td>\n",
       "    </tr>\n",
       "    <tr>\n",
       "      <th>9</th>\n",
       "      <td>-1.08</td>\n",
       "      <td>-0.980</td>\n",
       "      <td>-1.002022</td>\n",
       "      <td>Predicts Negative</td>\n",
       "    </tr>\n",
       "    <tr>\n",
       "      <th>10</th>\n",
       "      <td>-1.62</td>\n",
       "      <td>-1.730</td>\n",
       "      <td>-1.565141</td>\n",
       "      <td>Doesn’t Predict Positive</td>\n",
       "    </tr>\n",
       "    <tr>\n",
       "      <th>11</th>\n",
       "      <td>-0.97</td>\n",
       "      <td>-0.890</td>\n",
       "      <td>-0.891744</td>\n",
       "      <td>Predicts Negative</td>\n",
       "    </tr>\n",
       "    <tr>\n",
       "      <th>12</th>\n",
       "      <td>-1.50</td>\n",
       "      <td>-1.880</td>\n",
       "      <td>-1.649406</td>\n",
       "      <td>Predicts Positive</td>\n",
       "    </tr>\n",
       "    <tr>\n",
       "      <th>13</th>\n",
       "      <td>-2.17</td>\n",
       "      <td>-1.920</td>\n",
       "      <td>-1.522423</td>\n",
       "      <td>Predicts Negative</td>\n",
       "    </tr>\n",
       "    <tr>\n",
       "      <th>14</th>\n",
       "      <td>-2.70</td>\n",
       "      <td>-2.150</td>\n",
       "      <td>-2.280084</td>\n",
       "      <td>Predicts Negative</td>\n",
       "    </tr>\n",
       "    <tr>\n",
       "      <th>15</th>\n",
       "      <td>-2.05</td>\n",
       "      <td>-1.960</td>\n",
       "      <td>-1.606688</td>\n",
       "      <td>Predicts Negative</td>\n",
       "    </tr>\n",
       "    <tr>\n",
       "      <th>16</th>\n",
       "      <td>-2.59</td>\n",
       "      <td>-2.410</td>\n",
       "      <td>-2.169806</td>\n",
       "      <td>Predicts Negative</td>\n",
       "    </tr>\n",
       "    <tr>\n",
       "      <th>17</th>\n",
       "      <td>-1.94</td>\n",
       "      <td>-1.850</td>\n",
       "      <td>-1.496410</td>\n",
       "      <td>Predicts Negative</td>\n",
       "    </tr>\n",
       "    <tr>\n",
       "      <th>18</th>\n",
       "      <td>-2.47</td>\n",
       "      <td>-2.370</td>\n",
       "      <td>-2.254071</td>\n",
       "      <td>Predicts Negative</td>\n",
       "    </tr>\n",
       "    <tr>\n",
       "      <th>19</th>\n",
       "      <td>-1.85</td>\n",
       "      <td>-1.510</td>\n",
       "      <td>-1.612832</td>\n",
       "      <td>Predicts Negative</td>\n",
       "    </tr>\n",
       "    <tr>\n",
       "      <th>20</th>\n",
       "      <td>-1.20</td>\n",
       "      <td>-0.920</td>\n",
       "      <td>-0.939435</td>\n",
       "      <td>Predicts Negative</td>\n",
       "    </tr>\n",
       "    <tr>\n",
       "      <th>21</th>\n",
       "      <td>-1.73</td>\n",
       "      <td>-1.750</td>\n",
       "      <td>-1.697097</td>\n",
       "      <td>Doesn’t Predict Positive</td>\n",
       "    </tr>\n",
       "    <tr>\n",
       "      <th>22</th>\n",
       "      <td>-1.62</td>\n",
       "      <td>-1.740</td>\n",
       "      <td>-1.586818</td>\n",
       "      <td>Doesn’t Predict Positive</td>\n",
       "    </tr>\n",
       "    <tr>\n",
       "      <th>23</th>\n",
       "      <td>-2.17</td>\n",
       "      <td>-2.570</td>\n",
       "      <td>-1.544101</td>\n",
       "      <td>Doesn’t Predict Positive</td>\n",
       "    </tr>\n",
       "    <tr>\n",
       "      <th>24</th>\n",
       "      <td>-2.82</td>\n",
       "      <td>-2.090</td>\n",
       "      <td>-2.217497</td>\n",
       "      <td>Predicts Negative</td>\n",
       "    </tr>\n",
       "    <tr>\n",
       "      <th>25</th>\n",
       "      <td>-2.70</td>\n",
       "      <td>-2.320</td>\n",
       "      <td>-2.301762</td>\n",
       "      <td>Predicts Negative</td>\n",
       "    </tr>\n",
       "    <tr>\n",
       "      <th>26</th>\n",
       "      <td>-2.59</td>\n",
       "      <td>-2.773</td>\n",
       "      <td>-2.191484</td>\n",
       "      <td>Doesn’t Predict Positive</td>\n",
       "    </tr>\n",
       "    <tr>\n",
       "      <th>27</th>\n",
       "      <td>-2.82</td>\n",
       "      <td>-2.870</td>\n",
       "      <td>-2.239175</td>\n",
       "      <td>Doesn’t Predict Positive</td>\n",
       "    </tr>\n",
       "  </tbody>\n",
       "</table>\n",
       "</div>"
      ],
      "text/plain": [
       "    Additive value  Ground Truth  Prediction                    Status\n",
       "0            -1.82        -1.680   -1.537319         Predicts Negative\n",
       "1            -1.08        -0.870   -0.980345         Predicts Negative\n",
       "2            -1.50        -1.680   -1.627728         Predicts Positive\n",
       "3            -2.05        -1.840   -1.585010         Predicts Negative\n",
       "4            -1.94        -1.670   -1.474732         Predicts Negative\n",
       "5            -2.47        -2.190   -2.232393         Predicts Negative\n",
       "6            -1.82        -1.930   -1.558997  Doesn’t Predict Positive\n",
       "7            -1.20        -0.900   -0.917757         Predicts Negative\n",
       "8            -1.73        -1.300   -1.675419         Predicts Negative\n",
       "9            -1.08        -0.980   -1.002022         Predicts Negative\n",
       "10           -1.62        -1.730   -1.565141  Doesn’t Predict Positive\n",
       "11           -0.97        -0.890   -0.891744         Predicts Negative\n",
       "12           -1.50        -1.880   -1.649406         Predicts Positive\n",
       "13           -2.17        -1.920   -1.522423         Predicts Negative\n",
       "14           -2.70        -2.150   -2.280084         Predicts Negative\n",
       "15           -2.05        -1.960   -1.606688         Predicts Negative\n",
       "16           -2.59        -2.410   -2.169806         Predicts Negative\n",
       "17           -1.94        -1.850   -1.496410         Predicts Negative\n",
       "18           -2.47        -2.370   -2.254071         Predicts Negative\n",
       "19           -1.85        -1.510   -1.612832         Predicts Negative\n",
       "20           -1.20        -0.920   -0.939435         Predicts Negative\n",
       "21           -1.73        -1.750   -1.697097  Doesn’t Predict Positive\n",
       "22           -1.62        -1.740   -1.586818  Doesn’t Predict Positive\n",
       "23           -2.17        -2.570   -1.544101  Doesn’t Predict Positive\n",
       "24           -2.82        -2.090   -2.217497         Predicts Negative\n",
       "25           -2.70        -2.320   -2.301762         Predicts Negative\n",
       "26           -2.59        -2.773   -2.191484  Doesn’t Predict Positive\n",
       "27           -2.82        -2.870   -2.239175  Doesn’t Predict Positive"
      ]
     },
     "execution_count": 92,
     "metadata": {},
     "output_type": "execute_result"
    }
   ],
   "source": [
    "epi_result = pd.read_csv(\"svr_hydrophobicity_fourier.csv\",encoding='cp1252')\n",
    "epi_result"
   ]
  },
  {
   "cell_type": "markdown",
   "id": "1450074a",
   "metadata": {},
   "source": [
    "We can see that this model predicts all the negative epistasis instances and a few postive epistasis instances - an improvement from last time, proving the strength of Fourier Transform"
   ]
  },
  {
   "cell_type": "markdown",
   "id": "09ffbf66",
   "metadata": {},
   "source": [
    "**Test Score for Linear SVR on the multi-mutant test set**"
   ]
  },
  {
   "cell_type": "code",
   "execution_count": 149,
   "id": "0ed82247",
   "metadata": {},
   "outputs": [
    {
     "data": {
      "text/plain": [
       "0.6651930940890364"
      ]
     },
     "execution_count": 149,
     "metadata": {},
     "output_type": "execute_result"
    }
   ],
   "source": [
    "svr_fft.score(fft_x_test,test_data[\"G\"])"
   ]
  },
  {
   "cell_type": "markdown",
   "id": "1e115629",
   "metadata": {},
   "source": [
    "## Conclusion:\n",
    "\n",
    "Just by changing the AAindex and incorporating Fourier Transform, we obtained some promising results. As we stated before, R2 score is not the main criteria for deciding on a superior model; its going to be a combination of R2 score and the capability to predict the correct epistatic state. \n",
    "\n",
    "We repeated this experiment on a selected few AAindexes which we felt may be pertinent to this problem. In my next post, we will go through the results obtained and choose the best performing model."
   ]
  },
  {
   "cell_type": "code",
   "execution_count": null,
   "id": "2bea9a8b",
   "metadata": {},
   "outputs": [],
   "source": []
  }
 ],
 "metadata": {
  "kernelspec": {
   "display_name": "Python 3 (ipykernel)",
   "language": "python",
   "name": "python3"
  },
  "language_info": {
   "codemirror_mode": {
    "name": "ipython",
    "version": 3
   },
   "file_extension": ".py",
   "mimetype": "text/x-python",
   "name": "python",
   "nbconvert_exporter": "python",
   "pygments_lexer": "ipython3",
   "version": "3.9.12"
  }
 },
 "nbformat": 4,
 "nbformat_minor": 5
}
