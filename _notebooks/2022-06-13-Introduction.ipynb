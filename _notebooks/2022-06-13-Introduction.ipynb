{
 "cells": [
  {
   "cell_type": "markdown",
   "id": "11fb5b49",
   "metadata": {},
   "source": [
    "# \"ML Models for Protein Studies: Introduction\"\n",
    "> \"Linear Regression\"\n",
    "\n",
    "- toc: true \n",
    "- badges: true\n",
    "- comments: true\n",
    "- categories: [Part-1 - Linear_Regression]\n",
    "\n"
   ]
  },
  {
   "cell_type": "markdown",
   "id": "f172c465",
   "metadata": {},
   "source": [
    "\n",
    "## Acknowledgement\n",
    "\n",
    "**Before getting into the actual project, I would like to thank Jahnavi Hunsigida for being a wonderful research partner on the project; and Dr.Sumohana Channappayya of IIT Hyderabad, for giving me an opportunity to work on this project under his mentorship.**"
   ]
  },
  {
   "cell_type": "markdown",
   "id": "d3b7e3da",
   "metadata": {},
   "source": [
    "## Introduction\n",
    "\n",
    "\n",
    "**The beauty of data science lies in the fact that it can be utilised to solve problems in a wide variety of fields.** And, if you do have some domain-specific knowledge , you can find that it opens up a wide variety of options that can be taken to solve the problem at hand. \n",
    "\n",
    "My problem lies in the field of biology, and involves dealing with protein sequences. It is a well-known fact that we have multitudes of protein sequence data available. The basics of biology will tell you that the activity of any protein is dependent not just on its amino acid sequence, but also factors like the way its backbone is designed; the way it folds in 3-D space; the way protein units bind together, etc. \n",
    "So, the challenge lies in being able to manipulate only the sequence data – primary structure , in biological jargon - of proteins in order to build models to solve problems in the field. \n",
    "\n",
    "\n",
    "The work that follows is a continuation of an already published literature titled , “A machine learning approach for reliable prediction of amino acid interactions and its application in the directed evolution of enantioselective enzymes”, which deals with using only the sequence data to predict a biological parameter called the enantioselectivity value. \n",
    "\n",
    "\n",
    "\n",
    "### Literature Summary: ###\n",
    "\n",
    "\n",
    "The paper discusses a methodology for predicting a property – in this case, the enantioselectivity - of the input protein based on just using its primary sequence. \n",
    " This methodology involves using a Digital Signal Processing Technique called innov’SAR , which is a protein structure independent method. First , the protein sequences are converted into spectrums via amino acid index encoding and Fourier Transform.\n",
    "These spectrums are supposed to capture epistatic interactions between the different mutations. The converted inputs are used to design a ML model , which will in turn predict e-values for each of the inputs. The overall goal of this undertaking is to reduce the time spent in studying the activity of newly designed proteins by predicting the activity directly from its sequence.\n",
    "\n",
    "The authors have already explored and established certain models and parameters for the task at hand. My objective is to try some alternative machine learning models and data manipulations on the same problem and obtain some insights of my own. \n",
    "\n",
    "\n",
    "\n",
    "**The primary steps involved are as follows:**\n",
    "\n",
    "> Converting the alphabetical amino-acid sequences into sequences consisting of their respective amino acid indexes. \n",
    "\n",
    "\n",
    "> Using Fourier Transform to obtain information embedded in the converted sequences. \n",
    "\n",
    "\n",
    "> Using these as input in different Machine Learning models , hoping to capture a relationship between the inputs and the ground truth we are trying to predict - in this case , the E-value.\n",
    "\n",
    "\n",
    "\n",
    "\n",
    "\n",
    "### Epistasis: ###\n",
    "\n",
    "Before we go into the specifics , I want to talk about an interesting concept called “Epistasis”. Epistasis occurs when the mutation at a certain point in the gene is affected by a mutation at another site. As you will all see, the dataset we are dealing with consists of different mutants ( single and multi-point ) of epoxide hydrolase from Aspergillus Niger (ANEH). Hence , the model we design must be able to account for the epistatic interactions that may occur when we have a sample with mutations at multiple sites. This is especially important when we want to predict the enantioselectivity of unknown mutants.\n",
    "\n",
    "\n",
    "\n",
    "\n",
    "### Data Modelling: ###\n",
    "\n",
    "A very vital step of any Machine Learning project involves converting the raw inputs into a form suitable for interpretation by a ML algorithm. This step is especially crucial, as the representation of the input will majorly impact the performance of the model.\n",
    "\n",
    "\n",
    "\n",
    "### Amino Acid Indexes: ###\n",
    "\n",
    "The first step involves converting the alphabetical sequences of the inputs into a numerical form which is suitable for use in a machine learning model. For this purpose, we are going to use amino acid indexes. \n",
    "Amino Acid indexes are numerical quantities we assign to each amino acid; it is based on the physical or chemical characteristic we are dealing with ( AAindex: Amino Acid index database ). In this project, I will be trying a variety of AA indexes and comparing their performance in each modelling scenario.\n",
    "\n",
    "\n",
    "\n",
    "### Machine Learning Models: ###\n",
    "\n",
    "It should be obvious that the task at hand requires us to predict a continuous value , making this a regression problem. Keeping this is mind , we will focus on the performance of 2 ML regression models:\n",
    "\n",
    "1.\tLinear Regression \n",
    "\n",
    "2.\tSupport Vector Regression\n",
    "\n",
    "\n",
    "### Dataset: ###\n",
    "\n",
    "Set 1:  1 Wild-Type + 9 single point mutants of ANEH \n",
    "\n",
    "Set 2: 28 Multi-point mutants of ANEH\n",
    "\n",
    "The E-values for the mutants were measured in the lab.\n",
    "\n",
    "This dataset was obtained from the supplementary section of the paper. \n"
   ]
  },
  {
   "cell_type": "markdown",
   "id": "b29308d7",
   "metadata": {},
   "source": [
    "## Basic Linear Regression\n",
    "\n",
    "**We are going to start things off by using basic linear regression to model the problem. The amino acid index we are choosing is called EIIP.**"
   ]
  },
  {
   "cell_type": "code",
   "execution_count": 1,
   "id": "f61db673",
   "metadata": {},
   "outputs": [],
   "source": [
    "#Importing the necessary libraries\n",
    "import pandas as pd\n",
    "import numpy as np\n",
    "import matplotlib.pyplot as plt"
   ]
  },
  {
   "cell_type": "code",
   "execution_count": 2,
   "id": "8c65ceb0",
   "metadata": {},
   "outputs": [],
   "source": [
    "#Dictionary containing the amino acids and their respective indexes\n",
    "dict_eiip = {'A': 0.0373,\n",
    " 'R': 0.0959,\n",
    " 'N': 0.0036,\n",
    " 'D': 0.1263,\n",
    " 'C': 0.0829,\n",
    " 'Q': 0.0761,\n",
    " 'E': 0.0058,\n",
    " 'G': 0.005,\n",
    " 'H': 0.0242,\n",
    " 'I': 0,\n",
    " 'L': 0,\n",
    " 'K': 0.0371,\n",
    " 'M': 0.0823,\n",
    " 'F': 0.0946,\n",
    " 'P': 0.0198,\n",
    " 'S': 0.0829,\n",
    " 'T': 0.0941,\n",
    " 'W': 0.0548,\n",
    " 'Y': 0.0516,\n",
    " 'V': 0.0057}"
   ]
  },
  {
   "cell_type": "code",
   "execution_count": 3,
   "id": "ded11a17",
   "metadata": {},
   "outputs": [],
   "source": [
    "#Creating a function to convert the alphabetical sequences into EIIP sequences\n",
    "def num_convert(x):\n",
    "    return [dict_eiip[i] for i in x]\n",
    "        "
   ]
  },
  {
   "cell_type": "code",
   "execution_count": 4,
   "id": "7b85b186",
   "metadata": {},
   "outputs": [],
   "source": [
    "data = pd.read_csv(\"ee_train.csv\")"
   ]
  },
  {
   "cell_type": "code",
   "execution_count": 5,
   "id": "3111f78b",
   "metadata": {},
   "outputs": [
    {
     "data": {
      "text/html": [
       "<div>\n",
       "<style scoped>\n",
       "    .dataframe tbody tr th:only-of-type {\n",
       "        vertical-align: middle;\n",
       "    }\n",
       "\n",
       "    .dataframe tbody tr th {\n",
       "        vertical-align: top;\n",
       "    }\n",
       "\n",
       "    .dataframe thead th {\n",
       "        text-align: right;\n",
       "    }\n",
       "</style>\n",
       "<table border=\"1\" class=\"dataframe\">\n",
       "  <thead>\n",
       "    <tr style=\"text-align: right;\">\n",
       "      <th></th>\n",
       "      <th>Type</th>\n",
       "      <th>Sequence</th>\n",
       "      <th>EE</th>\n",
       "      <th>G</th>\n",
       "    </tr>\n",
       "  </thead>\n",
       "  <tbody>\n",
       "    <tr>\n",
       "      <th>0</th>\n",
       "      <td>WT</td>\n",
       "      <td>LARLTTMLC</td>\n",
       "      <td>4</td>\n",
       "      <td>-0.85</td>\n",
       "    </tr>\n",
       "    <tr>\n",
       "      <th>1</th>\n",
       "      <td>1</td>\n",
       "      <td>FARLTTMLC</td>\n",
       "      <td>12</td>\n",
       "      <td>-1.50</td>\n",
       "    </tr>\n",
       "    <tr>\n",
       "      <th>2</th>\n",
       "      <td>2</td>\n",
       "      <td>LNRLTTMLC</td>\n",
       "      <td>7</td>\n",
       "      <td>-1.17</td>\n",
       "    </tr>\n",
       "    <tr>\n",
       "      <th>3</th>\n",
       "      <td>3</td>\n",
       "      <td>LASLTTMLC</td>\n",
       "      <td>4</td>\n",
       "      <td>-0.85</td>\n",
       "    </tr>\n",
       "    <tr>\n",
       "      <th>4</th>\n",
       "      <td>4</td>\n",
       "      <td>LARYTTMLC</td>\n",
       "      <td>4</td>\n",
       "      <td>-0.85</td>\n",
       "    </tr>\n",
       "  </tbody>\n",
       "</table>\n",
       "</div>"
      ],
      "text/plain": [
       "  Type   Sequence  EE     G\n",
       "0   WT  LARLTTMLC   4 -0.85\n",
       "1    1  FARLTTMLC  12 -1.50\n",
       "2    2  LNRLTTMLC   7 -1.17\n",
       "3    3  LASLTTMLC   4 -0.85\n",
       "4    4  LARYTTMLC   4 -0.85"
      ]
     },
     "execution_count": 5,
     "metadata": {},
     "output_type": "execute_result"
    }
   ],
   "source": [
    "data.head()"
   ]
  },
  {
   "cell_type": "markdown",
   "id": "81caad03",
   "metadata": {},
   "source": [
    "As we can see, the Sequence column contains the protein sequences found in the training dataset. The ground truth we are dealing with here is a converted value called Free Energy (G). \n",
    "\n",
    "Formula:\n",
    "\n",
    "ΔΔG‡=−RT ln (E)\n",
    "\n",
    "Where E is the enantioselectivity"
   ]
  },
  {
   "cell_type": "code",
   "execution_count": 6,
   "id": "c7994d5d",
   "metadata": {},
   "outputs": [
    {
     "data": {
      "text/plain": [
       "(10, 4)"
      ]
     },
     "execution_count": 6,
     "metadata": {},
     "output_type": "execute_result"
    }
   ],
   "source": [
    "data.shape"
   ]
  },
  {
   "cell_type": "code",
   "execution_count": 7,
   "id": "0b7ba843",
   "metadata": {},
   "outputs": [],
   "source": [
    "x_train = [num_convert(x) for x in data[\"Sequence\"]]"
   ]
  },
  {
   "cell_type": "code",
   "execution_count": 8,
   "id": "fc1842e7",
   "metadata": {},
   "outputs": [
    {
     "name": "stdout",
     "output_type": "stream",
     "text": [
      "[[0, 0.0373, 0.0959, 0, 0.0941, 0.0941, 0.0823, 0, 0.0829], [0.0946, 0.0373, 0.0959, 0, 0.0941, 0.0941, 0.0823, 0, 0.0829], [0, 0.0036, 0.0959, 0, 0.0941, 0.0941, 0.0823, 0, 0.0829], [0, 0.0373, 0.0829, 0, 0.0941, 0.0941, 0.0823, 0, 0.0829], [0, 0.0373, 0.0959, 0.0516, 0.0941, 0.0941, 0.0823, 0, 0.0829], [0, 0.0373, 0.0959, 0, 0.0548, 0.0941, 0.0823, 0, 0.0829], [0, 0.0373, 0.0959, 0, 0.0941, 0.0057, 0.0823, 0, 0.0829], [0, 0.0373, 0.0959, 0, 0.0941, 0.0941, 0.0198, 0, 0.0829], [0, 0.0373, 0.0959, 0, 0.0941, 0.0941, 0.0823, 0.0516, 0.0829], [0, 0.0373, 0.0959, 0, 0.0941, 0.0941, 0.0823, 0, 0.0057]]\n"
     ]
    }
   ],
   "source": [
    "print(x_train)"
   ]
  },
  {
   "cell_type": "code",
   "execution_count": 9,
   "id": "4ec25620",
   "metadata": {},
   "outputs": [
    {
     "data": {
      "text/plain": [
       "int"
      ]
     },
     "execution_count": 9,
     "metadata": {},
     "output_type": "execute_result"
    }
   ],
   "source": [
    "type(x_train[0][0])"
   ]
  },
  {
   "cell_type": "code",
   "execution_count": 10,
   "id": "62a4508f",
   "metadata": {},
   "outputs": [
    {
     "name": "stdout",
     "output_type": "stream",
     "text": [
      "0   -0.85\n",
      "1   -1.50\n",
      "2   -1.17\n",
      "3   -0.85\n",
      "4   -0.85\n",
      "5   -1.50\n",
      "6   -0.85\n",
      "7   -1.08\n",
      "8   -0.85\n",
      "9   -0.97\n",
      "Name: G, dtype: float64\n"
     ]
    }
   ],
   "source": [
    "y_train = data[\"G\"]\n",
    "print(y_train)"
   ]
  },
  {
   "cell_type": "code",
   "execution_count": 11,
   "id": "50a279fa",
   "metadata": {},
   "outputs": [],
   "source": [
    "x_train = np.array(x_train)"
   ]
  },
  {
   "cell_type": "code",
   "execution_count": 12,
   "id": "e9537040",
   "metadata": {},
   "outputs": [
    {
     "name": "stdout",
     "output_type": "stream",
     "text": [
      "[[0.     0.0373 0.0959 0.     0.0941 0.0941 0.0823 0.     0.0829]\n",
      " [0.0946 0.0373 0.0959 0.     0.0941 0.0941 0.0823 0.     0.0829]\n",
      " [0.     0.0036 0.0959 0.     0.0941 0.0941 0.0823 0.     0.0829]\n",
      " [0.     0.0373 0.0829 0.     0.0941 0.0941 0.0823 0.     0.0829]\n",
      " [0.     0.0373 0.0959 0.0516 0.0941 0.0941 0.0823 0.     0.0829]\n",
      " [0.     0.0373 0.0959 0.     0.0548 0.0941 0.0823 0.     0.0829]\n",
      " [0.     0.0373 0.0959 0.     0.0941 0.0057 0.0823 0.     0.0829]\n",
      " [0.     0.0373 0.0959 0.     0.0941 0.0941 0.0198 0.     0.0829]\n",
      " [0.     0.0373 0.0959 0.     0.0941 0.0941 0.0823 0.0516 0.0829]\n",
      " [0.     0.0373 0.0959 0.     0.0941 0.0941 0.0823 0.     0.0057]]\n"
     ]
    }
   ],
   "source": [
    "print(x_train)"
   ]
  },
  {
   "cell_type": "markdown",
   "id": "59ae9f47",
   "metadata": {},
   "source": [
    "### The Regression Model ###\n",
    "\n",
    "Ordinary Least Square Regression"
   ]
  },
  {
   "cell_type": "code",
   "execution_count": 13,
   "id": "2600be49",
   "metadata": {},
   "outputs": [],
   "source": [
    "from sklearn.linear_model import LinearRegression\n",
    "reg = LinearRegression() "
   ]
  },
  {
   "cell_type": "code",
   "execution_count": 14,
   "id": "6cca2dcb",
   "metadata": {},
   "outputs": [
    {
     "data": {
      "text/plain": [
       "LinearRegression()"
      ]
     },
     "execution_count": 14,
     "metadata": {},
     "output_type": "execute_result"
    }
   ],
   "source": [
    "#Training the linear regression model on the training dataset\n",
    "reg.fit(x_train,y_train)"
   ]
  },
  {
   "cell_type": "markdown",
   "id": "a4d01778",
   "metadata": {},
   "source": [
    "**Predicting the value of the random datapoint**"
   ]
  },
  {
   "cell_type": "code",
   "execution_count": 15,
   "id": "80a8da4d",
   "metadata": {},
   "outputs": [],
   "source": [
    "# Lets give it a sample\n",
    "demo_1 = \"LARLTTPYC\"\n",
    "x_trial = num_convert(demo_1)\n"
   ]
  },
  {
   "cell_type": "code",
   "execution_count": 16,
   "id": "0e5107cb",
   "metadata": {},
   "outputs": [
    {
     "name": "stdout",
     "output_type": "stream",
     "text": [
      "[[0.     0.0373 0.0959 0.     0.0941 0.0941 0.0198 0.0516 0.0829]]\n"
     ]
    }
   ],
   "source": [
    "\n",
    "x_trial = np.array([x_trial])\n",
    "print(x_trial)"
   ]
  },
  {
   "cell_type": "code",
   "execution_count": 17,
   "id": "00dbd3c9",
   "metadata": {},
   "outputs": [
    {
     "name": "stdout",
     "output_type": "stream",
     "text": [
      "[-1.08]\n"
     ]
    }
   ],
   "source": [
    "#Predicting the value of the random datapoint\n",
    "print(reg.predict(x_trial))\n"
   ]
  },
  {
   "cell_type": "markdown",
   "id": "a0d92f3a",
   "metadata": {},
   "source": [
    "**Now, lets go to the test dataset**"
   ]
  },
  {
   "cell_type": "code",
   "execution_count": 18,
   "id": "8df429e9",
   "metadata": {},
   "outputs": [
    {
     "data": {
      "text/html": [
       "<div>\n",
       "<style scoped>\n",
       "    .dataframe tbody tr th:only-of-type {\n",
       "        vertical-align: middle;\n",
       "    }\n",
       "\n",
       "    .dataframe tbody tr th {\n",
       "        vertical-align: top;\n",
       "    }\n",
       "\n",
       "    .dataframe thead th {\n",
       "        text-align: right;\n",
       "    }\n",
       "</style>\n",
       "<table border=\"1\" class=\"dataframe\">\n",
       "  <thead>\n",
       "    <tr style=\"text-align: right;\">\n",
       "      <th></th>\n",
       "      <th>Sequence</th>\n",
       "      <th>G</th>\n",
       "      <th>EE</th>\n",
       "    </tr>\n",
       "  </thead>\n",
       "  <tbody>\n",
       "    <tr>\n",
       "      <th>0</th>\n",
       "      <td>FNSLTTMLC</td>\n",
       "      <td>-1.68</td>\n",
       "      <td>16.29</td>\n",
       "    </tr>\n",
       "    <tr>\n",
       "      <th>1</th>\n",
       "      <td>LARLTTPYC</td>\n",
       "      <td>-0.87</td>\n",
       "      <td>4.24</td>\n",
       "    </tr>\n",
       "    <tr>\n",
       "      <th>2</th>\n",
       "      <td>LARLWVMLC</td>\n",
       "      <td>-1.68</td>\n",
       "      <td>16.29</td>\n",
       "    </tr>\n",
       "    <tr>\n",
       "      <th>3</th>\n",
       "      <td>FNSLTTPYC</td>\n",
       "      <td>-1.84</td>\n",
       "      <td>21.25</td>\n",
       "    </tr>\n",
       "    <tr>\n",
       "      <th>4</th>\n",
       "      <td>FNSLTTMLV</td>\n",
       "      <td>-1.67</td>\n",
       "      <td>16.02</td>\n",
       "    </tr>\n",
       "  </tbody>\n",
       "</table>\n",
       "</div>"
      ],
      "text/plain": [
       "    Sequence     G     EE\n",
       "0  FNSLTTMLC -1.68  16.29\n",
       "1  LARLTTPYC -0.87   4.24\n",
       "2  LARLWVMLC -1.68  16.29\n",
       "3  FNSLTTPYC -1.84  21.25\n",
       "4  FNSLTTMLV -1.67  16.02"
      ]
     },
     "execution_count": 18,
     "metadata": {},
     "output_type": "execute_result"
    }
   ],
   "source": [
    "data_test = pd.read_csv(\"ee_test.csv\")\n",
    "data_test.head()"
   ]
  },
  {
   "cell_type": "code",
   "execution_count": 19,
   "id": "d8d5b03b",
   "metadata": {},
   "outputs": [
    {
     "data": {
      "text/plain": [
       "(28, 3)"
      ]
     },
     "execution_count": 19,
     "metadata": {},
     "output_type": "execute_result"
    }
   ],
   "source": [
    "#There are 28 multi-point mutants in the test dataset\n",
    "data_test.shape"
   ]
  },
  {
   "cell_type": "code",
   "execution_count": 20,
   "id": "d0471845",
   "metadata": {},
   "outputs": [],
   "source": [
    "x_test = [num_convert(x) for x in data_test[\"Sequence\"]]"
   ]
  },
  {
   "cell_type": "code",
   "execution_count": 21,
   "id": "9098e9b5",
   "metadata": {},
   "outputs": [],
   "source": [
    "x_test = np.array(x_test)"
   ]
  },
  {
   "cell_type": "code",
   "execution_count": 22,
   "id": "b4816190",
   "metadata": {},
   "outputs": [],
   "source": [
    "prediction = reg.predict(x_test)"
   ]
  },
  {
   "cell_type": "code",
   "execution_count": 23,
   "id": "9c08e2b5",
   "metadata": {},
   "outputs": [
    {
     "name": "stdout",
     "output_type": "stream",
     "text": [
      "[-1.82 -1.08 -1.5  -2.05 -1.94 -2.47 -1.82 -1.2  -1.73 -1.08 -1.62 -0.97\n",
      " -1.5  -2.17 -2.7  -2.05 -2.59 -1.94 -2.47 -1.85 -1.2  -1.73 -1.62 -2.17\n",
      " -2.82 -2.7  -2.59 -2.82]\n"
     ]
    }
   ],
   "source": [
    "print(prediction)"
   ]
  },
  {
   "cell_type": "code",
   "execution_count": 24,
   "id": "6feb2482",
   "metadata": {},
   "outputs": [
    {
     "name": "stdout",
     "output_type": "stream",
     "text": [
      "0    -1.68\n",
      "1    -0.87\n",
      "2    -1.68\n",
      "3    -1.84\n",
      "4    -1.67\n",
      "5    -2.19\n",
      "6    -1.93\n",
      "7    -0.90\n",
      "8    -1.30\n",
      "9    -0.98\n",
      "10   -1.73\n",
      "11   -0.89\n",
      "12   -1.88\n",
      "13   -1.92\n",
      "14   -2.15\n",
      "15   -1.96\n",
      "16   -2.41\n",
      "17   -1.85\n",
      "18   -2.37\n",
      "19   -1.51\n",
      "20   -0.92\n",
      "21   -1.75\n",
      "22   -1.74\n",
      "23   -2.57\n",
      "24   -2.09\n",
      "25   -2.32\n",
      "26   -2.73\n",
      "27   -2.87\n",
      "Name: G, dtype: float64\n"
     ]
    }
   ],
   "source": [
    "y_test = data_test[\"G\"]\n",
    "print(y_test)"
   ]
  },
  {
   "cell_type": "markdown",
   "id": "e6f4a8b5",
   "metadata": {},
   "source": [
    "**Test Score**"
   ]
  },
  {
   "cell_type": "code",
   "execution_count": 25,
   "id": "4924b9e9",
   "metadata": {},
   "outputs": [
    {
     "data": {
      "text/plain": [
       "0.7308241521828205"
      ]
     },
     "execution_count": 25,
     "metadata": {},
     "output_type": "execute_result"
    }
   ],
   "source": [
    "#The r2 score for the predictions\n",
    "from sklearn.metrics import r2_score\n",
    "r2_score(y_test,prediction)"
   ]
  },
  {
   "cell_type": "markdown",
   "id": "c436f2c2",
   "metadata": {},
   "source": [
    "**Training Score**"
   ]
  },
  {
   "cell_type": "code",
   "execution_count": 26,
   "id": "34d320c0",
   "metadata": {},
   "outputs": [
    {
     "data": {
      "text/plain": [
       "1.0"
      ]
     },
     "execution_count": 26,
     "metadata": {},
     "output_type": "execute_result"
    }
   ],
   "source": [
    "#The training score \n",
    "reg.score(x_train,y_train)"
   ]
  },
  {
   "cell_type": "code",
   "execution_count": 27,
   "id": "2ea89a25",
   "metadata": {},
   "outputs": [
    {
     "name": "stdout",
     "output_type": "stream",
     "text": [
      "Pearsons correlation: 0.893\n"
     ]
    }
   ],
   "source": [
    "#Pearson correlation for the prediction\n",
    "from scipy.stats import pearsonr\n",
    "\n",
    "corr, _ = pearsonr(y_test, prediction)\n",
    "print('Pearsons correlation: %.3f' % corr)"
   ]
  },
  {
   "cell_type": "code",
   "execution_count": 28,
   "id": "943c7549",
   "metadata": {},
   "outputs": [
    {
     "data": {
      "text/plain": [
       "<function matplotlib.pyplot.show(close=None, block=None)>"
      ]
     },
     "execution_count": 28,
     "metadata": {},
     "output_type": "execute_result"
    },
    {
     "data": {
      "image/png": "[encoded data removed]",
      "text/plain": [
       "<Figure size 432x288 with 1 Axes>"
      ]
     },
     "metadata": {
      "needs_background": "light"
     },
     "output_type": "display_data"
    }
   ],
   "source": [
    "#Plotting the predicted value and the actual value\n",
    "plt.scatter(range(1,29),y_test,c = \"blue\")\n",
    "plt.plot(range(1,29),prediction , c=\"red\")\n",
    "plt.xlabel(\"mutant number\")\n",
    "plt.ylabel(\"G - value\")\n",
    "plt.legend([\"prediction\",\"y_test\"])\n",
    "plt.show"
   ]
  },
  {
   "cell_type": "markdown",
   "id": "e3ca3acc",
   "metadata": {},
   "source": [
    "From just looking at the R2 score, we can probably say that the model does relatively well for the limited number of datapoints we are dealing with. However , the problem we are dealing with is not quite as simple as getting the line of closest fit due to the problem of epistasis. \n",
    "\n",
    "To calculate epistasis , we need to see if the e-value obtained due to multiple mutations is lower or higher than the theoretical additive value obtained by adding each individual mutation. Higher leads to positive epistasis; lower leads to negative epistasis. Hence, even if the predicted e-value is close to the actual value , there is the aspect of predicting the correct epistatic state. \n",
    "\n",
    "Now, when it comes to the linear regression model , the predicted values for the multi-mutant test set is an exact match with the theoretical additive e-values. This observation stays the same regardless of the nature of the amino-acid index we use (This will be proved in later sections of the post, where we try other AA indexes).\n",
    "\n",
    "\n",
    "**Now, to verify if the linear regression model is insensitive to the exact values of the indexes, lets try a one-hot encoding model.**"
   ]
  },
  {
   "cell_type": "markdown",
   "id": "691b7b45",
   "metadata": {},
   "source": [
    "### Trying a One-hot Model ###"
   ]
  },
  {
   "cell_type": "code",
   "execution_count": 29,
   "id": "1ca454cc",
   "metadata": {},
   "outputs": [],
   "source": [
    "#Function for breaking down each sequence into a list of letters\n",
    "def seq_convert(x):\n",
    "    entry = []\n",
    "    for i in x:\n",
    "        entry.append(i)\n",
    "    return entry"
   ]
  },
  {
   "cell_type": "code",
   "execution_count": 30,
   "id": "4be67455",
   "metadata": {},
   "outputs": [
    {
     "data": {
      "text/plain": [
       "['L', 'A', 'R', 'L', 'T', 'T', 'P', 'Y', 'C']"
      ]
     },
     "execution_count": 30,
     "metadata": {},
     "output_type": "execute_result"
    }
   ],
   "source": [
    "#Demonstration of the function\n",
    "demo_1 = \"LARLTTPYC\"\n",
    "seq_convert(demo_1)"
   ]
  },
  {
   "cell_type": "code",
   "execution_count": 31,
   "id": "a795af34",
   "metadata": {},
   "outputs": [],
   "source": [
    "letter_vector_train = [seq_convert(x) for x in data[\"Sequence\"]]"
   ]
  },
  {
   "cell_type": "code",
   "execution_count": 32,
   "id": "27c60fb9",
   "metadata": {},
   "outputs": [],
   "source": [
    "letter_vector_test = [seq_convert(x) for x in data_test[\"Sequence\"]]"
   ]
  },
  {
   "cell_type": "code",
   "execution_count": 33,
   "id": "5bd9106a",
   "metadata": {},
   "outputs": [
    {
     "name": "stdout",
     "output_type": "stream",
     "text": [
      "38\n",
      "[['L' 'A' 'R' 'L' 'T' 'T' 'M' 'L' 'C']\n",
      " ['F' 'A' 'R' 'L' 'T' 'T' 'M' 'L' 'C']\n",
      " ['L' 'N' 'R' 'L' 'T' 'T' 'M' 'L' 'C']\n",
      " ['L' 'A' 'S' 'L' 'T' 'T' 'M' 'L' 'C']\n",
      " ['L' 'A' 'R' 'Y' 'T' 'T' 'M' 'L' 'C']\n",
      " ['L' 'A' 'R' 'L' 'W' 'T' 'M' 'L' 'C']\n",
      " ['L' 'A' 'R' 'L' 'T' 'V' 'M' 'L' 'C']\n",
      " ['L' 'A' 'R' 'L' 'T' 'T' 'P' 'L' 'C']\n",
      " ['L' 'A' 'R' 'L' 'T' 'T' 'M' 'Y' 'C']\n",
      " ['L' 'A' 'R' 'L' 'T' 'T' 'M' 'L' 'V']\n",
      " ['F' 'N' 'S' 'L' 'T' 'T' 'M' 'L' 'C']\n",
      " ['L' 'A' 'R' 'L' 'T' 'T' 'P' 'Y' 'C']\n",
      " ['L' 'A' 'R' 'L' 'W' 'V' 'M' 'L' 'C']\n",
      " ['F' 'N' 'S' 'L' 'T' 'T' 'P' 'Y' 'C']\n",
      " ['F' 'N' 'S' 'L' 'T' 'T' 'M' 'L' 'V']\n",
      " ['F' 'N' 'S' 'L' 'W' 'V' 'M' 'L' 'C']\n",
      " ['F' 'N' 'S' 'Y' 'T' 'T' 'M' 'L' 'C']\n",
      " ['L' 'A' 'R' 'L' 'T' 'T' 'P' 'Y' 'V']\n",
      " ['L' 'A' 'R' 'L' 'W' 'V' 'P' 'Y' 'C']\n",
      " ['L' 'A' 'R' 'Y' 'T' 'T' 'P' 'Y' 'C']\n",
      " ['L' 'A' 'R' 'L' 'W' 'V' 'M' 'L' 'V']\n",
      " ['L' 'A' 'R' 'Y' 'T' 'T' 'M' 'L' 'V']\n",
      " ['L' 'A' 'R' 'Y' 'W' 'V' 'M' 'L' 'C']\n",
      " ['F' 'N' 'S' 'L' 'T' 'T' 'P' 'Y' 'V']\n",
      " ['F' 'N' 'S' 'L' 'W' 'V' 'P' 'Y' 'C']\n",
      " ['F' 'N' 'S' 'Y' 'T' 'T' 'P' 'Y' 'C']\n",
      " ['F' 'N' 'S' 'L' 'W' 'V' 'M' 'L' 'V']\n",
      " ['F' 'N' 'S' 'Y' 'T' 'T' 'M' 'L' 'V']\n",
      " ['F' 'N' 'S' 'Y' 'W' 'V' 'M' 'L' 'C']\n",
      " ['L' 'A' 'R' 'L' 'W' 'V' 'P' 'Y' 'V']\n",
      " ['L' 'A' 'R' 'Y' 'T' 'T' 'P' 'Y' 'V']\n",
      " ['L' 'A' 'R' 'Y' 'W' 'V' 'P' 'Y' 'C']\n",
      " ['L' 'A' 'R' 'Y' 'W' 'V' 'M' 'L' 'V']\n",
      " ['F' 'N' 'S' 'Y' 'T' 'T' 'P' 'Y' 'V']\n",
      " ['F' 'N' 'S' 'L' 'W' 'V' 'P' 'Y' 'V']\n",
      " ['F' 'N' 'S' 'Y' 'W' 'V' 'P' 'Y' 'C']\n",
      " ['F' 'N' 'S' 'Y' 'W' 'V' 'M' 'L' 'V']\n",
      " ['F' 'N' 'S' 'Y' 'W' 'V' 'P' 'Y' 'V']]\n"
     ]
    }
   ],
   "source": [
    "#Combining the 2 letter vectors and displaying them\n",
    "letter_vector = np.append(letter_vector_train,letter_vector_test,axis = 0)\n",
    "print(len(letter_vector))\n",
    "print(letter_vector)"
   ]
  },
  {
   "cell_type": "code",
   "execution_count": 34,
   "id": "6f243875",
   "metadata": {},
   "outputs": [],
   "source": [
    "from sklearn.preprocessing import OneHotEncoder"
   ]
  },
  {
   "cell_type": "markdown",
   "id": "618b1a08",
   "metadata": {},
   "source": [
    "Fitting the one hot encoder"
   ]
  },
  {
   "cell_type": "code",
   "execution_count": 35,
   "id": "9bad23b8",
   "metadata": {},
   "outputs": [
    {
     "data": {
      "text/plain": [
       "OneHotEncoder()"
      ]
     },
     "execution_count": 35,
     "metadata": {},
     "output_type": "execute_result"
    }
   ],
   "source": [
    "#Fitting the One-Hot encoder\n",
    "enc = OneHotEncoder()\n",
    "enc.fit(letter_vector)"
   ]
  },
  {
   "cell_type": "markdown",
   "id": "57dd7629",
   "metadata": {},
   "source": [
    "The one hod encoded vector for each of the 38 sequences in the dataset"
   ]
  },
  {
   "cell_type": "code",
   "execution_count": 36,
   "id": "cf697e18",
   "metadata": {},
   "outputs": [
    {
     "name": "stdout",
     "output_type": "stream",
     "text": [
      "[[0. 1. 1. 0. 1. 0. 1. 0. 1. 0. 1. 0. 1. 0. 1. 0. 1. 0.]\n",
      " [1. 0. 1. 0. 1. 0. 1. 0. 1. 0. 1. 0. 1. 0. 1. 0. 1. 0.]\n",
      " [0. 1. 0. 1. 1. 0. 1. 0. 1. 0. 1. 0. 1. 0. 1. 0. 1. 0.]\n",
      " [0. 1. 1. 0. 0. 1. 1. 0. 1. 0. 1. 0. 1. 0. 1. 0. 1. 0.]\n",
      " [0. 1. 1. 0. 1. 0. 0. 1. 1. 0. 1. 0. 1. 0. 1. 0. 1. 0.]\n",
      " [0. 1. 1. 0. 1. 0. 1. 0. 0. 1. 1. 0. 1. 0. 1. 0. 1. 0.]\n",
      " [0. 1. 1. 0. 1. 0. 1. 0. 1. 0. 0. 1. 1. 0. 1. 0. 1. 0.]\n",
      " [0. 1. 1. 0. 1. 0. 1. 0. 1. 0. 1. 0. 0. 1. 1. 0. 1. 0.]\n",
      " [0. 1. 1. 0. 1. 0. 1. 0. 1. 0. 1. 0. 1. 0. 0. 1. 1. 0.]\n",
      " [0. 1. 1. 0. 1. 0. 1. 0. 1. 0. 1. 0. 1. 0. 1. 0. 0. 1.]\n",
      " [1. 0. 0. 1. 0. 1. 1. 0. 1. 0. 1. 0. 1. 0. 1. 0. 1. 0.]\n",
      " [0. 1. 1. 0. 1. 0. 1. 0. 1. 0. 1. 0. 0. 1. 0. 1. 1. 0.]\n",
      " [0. 1. 1. 0. 1. 0. 1. 0. 0. 1. 0. 1. 1. 0. 1. 0. 1. 0.]\n",
      " [1. 0. 0. 1. 0. 1. 1. 0. 1. 0. 1. 0. 0. 1. 0. 1. 1. 0.]\n",
      " [1. 0. 0. 1. 0. 1. 1. 0. 1. 0. 1. 0. 1. 0. 1. 0. 0. 1.]\n",
      " [1. 0. 0. 1. 0. 1. 1. 0. 0. 1. 0. 1. 1. 0. 1. 0. 1. 0.]\n",
      " [1. 0. 0. 1. 0. 1. 0. 1. 1. 0. 1. 0. 1. 0. 1. 0. 1. 0.]\n",
      " [0. 1. 1. 0. 1. 0. 1. 0. 1. 0. 1. 0. 0. 1. 0. 1. 0. 1.]\n",
      " [0. 1. 1. 0. 1. 0. 1. 0. 0. 1. 0. 1. 0. 1. 0. 1. 1. 0.]\n",
      " [0. 1. 1. 0. 1. 0. 0. 1. 1. 0. 1. 0. 0. 1. 0. 1. 1. 0.]\n",
      " [0. 1. 1. 0. 1. 0. 1. 0. 0. 1. 0. 1. 1. 0. 1. 0. 0. 1.]\n",
      " [0. 1. 1. 0. 1. 0. 0. 1. 1. 0. 1. 0. 1. 0. 1. 0. 0. 1.]\n",
      " [0. 1. 1. 0. 1. 0. 0. 1. 0. 1. 0. 1. 1. 0. 1. 0. 1. 0.]\n",
      " [1. 0. 0. 1. 0. 1. 1. 0. 1. 0. 1. 0. 0. 1. 0. 1. 0. 1.]\n",
      " [1. 0. 0. 1. 0. 1. 1. 0. 0. 1. 0. 1. 0. 1. 0. 1. 1. 0.]\n",
      " [1. 0. 0. 1. 0. 1. 0. 1. 1. 0. 1. 0. 0. 1. 0. 1. 1. 0.]\n",
      " [1. 0. 0. 1. 0. 1. 1. 0. 0. 1. 0. 1. 1. 0. 1. 0. 0. 1.]\n",
      " [1. 0. 0. 1. 0. 1. 0. 1. 1. 0. 1. 0. 1. 0. 1. 0. 0. 1.]\n",
      " [1. 0. 0. 1. 0. 1. 0. 1. 0. 1. 0. 1. 1. 0. 1. 0. 1. 0.]\n",
      " [0. 1. 1. 0. 1. 0. 1. 0. 0. 1. 0. 1. 0. 1. 0. 1. 0. 1.]\n",
      " [0. 1. 1. 0. 1. 0. 0. 1. 1. 0. 1. 0. 0. 1. 0. 1. 0. 1.]\n",
      " [0. 1. 1. 0. 1. 0. 0. 1. 0. 1. 0. 1. 0. 1. 0. 1. 1. 0.]\n",
      " [0. 1. 1. 0. 1. 0. 0. 1. 0. 1. 0. 1. 1. 0. 1. 0. 0. 1.]\n",
      " [1. 0. 0. 1. 0. 1. 0. 1. 1. 0. 1. 0. 0. 1. 0. 1. 0. 1.]\n",
      " [1. 0. 0. 1. 0. 1. 1. 0. 0. 1. 0. 1. 0. 1. 0. 1. 0. 1.]\n",
      " [1. 0. 0. 1. 0. 1. 0. 1. 0. 1. 0. 1. 0. 1. 0. 1. 1. 0.]\n",
      " [1. 0. 0. 1. 0. 1. 0. 1. 0. 1. 0. 1. 1. 0. 1. 0. 0. 1.]\n",
      " [1. 0. 0. 1. 0. 1. 0. 1. 0. 1. 0. 1. 0. 1. 0. 1. 0. 1.]]\n"
     ]
    }
   ],
   "source": [
    "#The one-hot encoded vector for each of the 38 sequences in out dataset\n",
    "print(enc.transform(letter_vector).toarray())\n",
    "one_hot_vector = enc.transform(letter_vector).toarray()"
   ]
  },
  {
   "cell_type": "code",
   "execution_count": 37,
   "id": "0be0d2be",
   "metadata": {},
   "outputs": [
    {
     "name": "stdout",
     "output_type": "stream",
     "text": [
      "10\n",
      "28\n"
     ]
    }
   ],
   "source": [
    "one_x_train = one_hot_vector[0:10]\n",
    "one_x_test = one_hot_vector[10:]\n",
    "print(len(one_x_train))\n",
    "print(len(one_x_test))"
   ]
  },
  {
   "cell_type": "code",
   "execution_count": 38,
   "id": "f42fcaf3",
   "metadata": {},
   "outputs": [
    {
     "data": {
      "text/plain": [
       "LinearRegression()"
      ]
     },
     "execution_count": 38,
     "metadata": {},
     "output_type": "execute_result"
    }
   ],
   "source": [
    "reg = LinearRegression()\n",
    "reg.fit(one_x_train,y_train)"
   ]
  },
  {
   "cell_type": "markdown",
   "id": "0333fc44",
   "metadata": {},
   "source": [
    "**Training Score**"
   ]
  },
  {
   "cell_type": "code",
   "execution_count": 39,
   "id": "10c07d49",
   "metadata": {},
   "outputs": [
    {
     "data": {
      "text/plain": [
       "1.0"
      ]
     },
     "execution_count": 39,
     "metadata": {},
     "output_type": "execute_result"
    }
   ],
   "source": [
    "reg.score(one_x_train,y_train)"
   ]
  },
  {
   "cell_type": "code",
   "execution_count": 40,
   "id": "0b503fe0",
   "metadata": {},
   "outputs": [
    {
     "name": "stdout",
     "output_type": "stream",
     "text": [
      "[-1.82 -1.08 -1.5  -2.05 -1.94 -2.47 -1.82 -1.2  -1.73 -1.08 -1.62 -0.97\n",
      " -1.5  -2.17 -2.7  -2.05 -2.59 -1.94 -2.47 -1.85 -1.2  -1.73 -1.62 -2.17\n",
      " -2.82 -2.7  -2.59 -2.82]\n"
     ]
    }
   ],
   "source": [
    "prediction_one = reg.predict(one_x_test)\n",
    "print(prediction_one)"
   ]
  },
  {
   "cell_type": "markdown",
   "id": "703cd7bd",
   "metadata": {},
   "source": [
    "**Test Score**"
   ]
  },
  {
   "cell_type": "code",
   "execution_count": 41,
   "id": "e5f221d0",
   "metadata": {},
   "outputs": [
    {
     "name": "stdout",
     "output_type": "stream",
     "text": [
      "0.7308241521828207\n"
     ]
    }
   ],
   "source": [
    "print(r2_score(y_test,prediction_one))"
   ]
  },
  {
   "cell_type": "markdown",
   "id": "7ef9069f",
   "metadata": {},
   "source": [
    "**Pearson Correlation Co-efficient**"
   ]
  },
  {
   "cell_type": "code",
   "execution_count": 42,
   "id": "f0457542",
   "metadata": {},
   "outputs": [
    {
     "name": "stdout",
     "output_type": "stream",
     "text": [
      "Pearsons correlation: 0.893\n"
     ]
    }
   ],
   "source": [
    "corr, _ = pearsonr(y_test, prediction_one)\n",
    "print('Pearsons correlation: %.3f' % corr)"
   ]
  },
  {
   "cell_type": "code",
   "execution_count": 43,
   "id": "6e6f53bf",
   "metadata": {},
   "outputs": [
    {
     "data": {
      "text/plain": [
       "<function matplotlib.pyplot.show(close=None, block=None)>"
      ]
     },
     "execution_count": 43,
     "metadata": {},
     "output_type": "execute_result"
    },
    {
     "data": {
      "image/png": "[encoded data removed]",
      "text/plain": [
       "<Figure size 432x288 with 1 Axes>"
      ]
     },
     "metadata": {
      "needs_background": "light"
     },
     "output_type": "display_data"
    }
   ],
   "source": [
    "plt.scatter(range(1,29),y_test,c = \"blue\")\n",
    "plt.plot(range(1,29),prediction_one , c=\"red\")\n",
    "plt.xlabel(\"mutant number\")\n",
    "plt.ylabel(\"G - value\")\n",
    "plt.legend([\"predicted\",\"y_test\"])\n",
    "plt.show"
   ]
  },
  {
   "cell_type": "code",
   "execution_count": 45,
   "id": "02629732",
   "metadata": {},
   "outputs": [
    {
     "data": {
      "text/html": [
       "<div>\n",
       "<style scoped>\n",
       "    .dataframe tbody tr th:only-of-type {\n",
       "        vertical-align: middle;\n",
       "    }\n",
       "\n",
       "    .dataframe tbody tr th {\n",
       "        vertical-align: top;\n",
       "    }\n",
       "\n",
       "    .dataframe thead th {\n",
       "        text-align: right;\n",
       "    }\n",
       "</style>\n",
       "<table border=\"1\" class=\"dataframe\">\n",
       "  <thead>\n",
       "    <tr style=\"text-align: right;\">\n",
       "      <th></th>\n",
       "      <th>EIIP + LR</th>\n",
       "      <th>One_Hot + LR</th>\n",
       "    </tr>\n",
       "  </thead>\n",
       "  <tbody>\n",
       "    <tr>\n",
       "      <th>0</th>\n",
       "      <td>-1.82</td>\n",
       "      <td>-1.82</td>\n",
       "    </tr>\n",
       "    <tr>\n",
       "      <th>1</th>\n",
       "      <td>-1.08</td>\n",
       "      <td>-1.08</td>\n",
       "    </tr>\n",
       "    <tr>\n",
       "      <th>2</th>\n",
       "      <td>-1.50</td>\n",
       "      <td>-1.50</td>\n",
       "    </tr>\n",
       "    <tr>\n",
       "      <th>3</th>\n",
       "      <td>-2.05</td>\n",
       "      <td>-2.05</td>\n",
       "    </tr>\n",
       "    <tr>\n",
       "      <th>4</th>\n",
       "      <td>-1.94</td>\n",
       "      <td>-1.94</td>\n",
       "    </tr>\n",
       "    <tr>\n",
       "      <th>5</th>\n",
       "      <td>-2.47</td>\n",
       "      <td>-2.47</td>\n",
       "    </tr>\n",
       "    <tr>\n",
       "      <th>6</th>\n",
       "      <td>-1.82</td>\n",
       "      <td>-1.82</td>\n",
       "    </tr>\n",
       "    <tr>\n",
       "      <th>7</th>\n",
       "      <td>-1.20</td>\n",
       "      <td>-1.20</td>\n",
       "    </tr>\n",
       "    <tr>\n",
       "      <th>8</th>\n",
       "      <td>-1.73</td>\n",
       "      <td>-1.73</td>\n",
       "    </tr>\n",
       "    <tr>\n",
       "      <th>9</th>\n",
       "      <td>-1.08</td>\n",
       "      <td>-1.08</td>\n",
       "    </tr>\n",
       "    <tr>\n",
       "      <th>10</th>\n",
       "      <td>-1.62</td>\n",
       "      <td>-1.62</td>\n",
       "    </tr>\n",
       "    <tr>\n",
       "      <th>11</th>\n",
       "      <td>-0.97</td>\n",
       "      <td>-0.97</td>\n",
       "    </tr>\n",
       "    <tr>\n",
       "      <th>12</th>\n",
       "      <td>-1.50</td>\n",
       "      <td>-1.50</td>\n",
       "    </tr>\n",
       "    <tr>\n",
       "      <th>13</th>\n",
       "      <td>-2.17</td>\n",
       "      <td>-2.17</td>\n",
       "    </tr>\n",
       "    <tr>\n",
       "      <th>14</th>\n",
       "      <td>-2.70</td>\n",
       "      <td>-2.70</td>\n",
       "    </tr>\n",
       "    <tr>\n",
       "      <th>15</th>\n",
       "      <td>-2.05</td>\n",
       "      <td>-2.05</td>\n",
       "    </tr>\n",
       "    <tr>\n",
       "      <th>16</th>\n",
       "      <td>-2.59</td>\n",
       "      <td>-2.59</td>\n",
       "    </tr>\n",
       "    <tr>\n",
       "      <th>17</th>\n",
       "      <td>-1.94</td>\n",
       "      <td>-1.94</td>\n",
       "    </tr>\n",
       "    <tr>\n",
       "      <th>18</th>\n",
       "      <td>-2.47</td>\n",
       "      <td>-2.47</td>\n",
       "    </tr>\n",
       "    <tr>\n",
       "      <th>19</th>\n",
       "      <td>-1.85</td>\n",
       "      <td>-1.85</td>\n",
       "    </tr>\n",
       "    <tr>\n",
       "      <th>20</th>\n",
       "      <td>-1.20</td>\n",
       "      <td>-1.20</td>\n",
       "    </tr>\n",
       "    <tr>\n",
       "      <th>21</th>\n",
       "      <td>-1.73</td>\n",
       "      <td>-1.73</td>\n",
       "    </tr>\n",
       "    <tr>\n",
       "      <th>22</th>\n",
       "      <td>-1.62</td>\n",
       "      <td>-1.62</td>\n",
       "    </tr>\n",
       "    <tr>\n",
       "      <th>23</th>\n",
       "      <td>-2.17</td>\n",
       "      <td>-2.17</td>\n",
       "    </tr>\n",
       "    <tr>\n",
       "      <th>24</th>\n",
       "      <td>-2.82</td>\n",
       "      <td>-2.82</td>\n",
       "    </tr>\n",
       "    <tr>\n",
       "      <th>25</th>\n",
       "      <td>-2.70</td>\n",
       "      <td>-2.70</td>\n",
       "    </tr>\n",
       "    <tr>\n",
       "      <th>26</th>\n",
       "      <td>-2.59</td>\n",
       "      <td>-2.59</td>\n",
       "    </tr>\n",
       "    <tr>\n",
       "      <th>27</th>\n",
       "      <td>-2.82</td>\n",
       "      <td>-2.82</td>\n",
       "    </tr>\n",
       "  </tbody>\n",
       "</table>\n",
       "</div>"
      ],
      "text/plain": [
       "    EIIP + LR  One_Hot + LR\n",
       "0       -1.82         -1.82\n",
       "1       -1.08         -1.08\n",
       "2       -1.50         -1.50\n",
       "3       -2.05         -2.05\n",
       "4       -1.94         -1.94\n",
       "5       -2.47         -2.47\n",
       "6       -1.82         -1.82\n",
       "7       -1.20         -1.20\n",
       "8       -1.73         -1.73\n",
       "9       -1.08         -1.08\n",
       "10      -1.62         -1.62\n",
       "11      -0.97         -0.97\n",
       "12      -1.50         -1.50\n",
       "13      -2.17         -2.17\n",
       "14      -2.70         -2.70\n",
       "15      -2.05         -2.05\n",
       "16      -2.59         -2.59\n",
       "17      -1.94         -1.94\n",
       "18      -2.47         -2.47\n",
       "19      -1.85         -1.85\n",
       "20      -1.20         -1.20\n",
       "21      -1.73         -1.73\n",
       "22      -1.62         -1.62\n",
       "23      -2.17         -2.17\n",
       "24      -2.82         -2.82\n",
       "25      -2.70         -2.70\n",
       "26      -2.59         -2.59\n",
       "27      -2.82         -2.82"
      ]
     },
     "execution_count": 45,
     "metadata": {},
     "output_type": "execute_result"
    }
   ],
   "source": [
    "comparision_dict= {\"EIIP + LR\":prediction,\"One_Hot + LR\":prediction_one}\n",
    "comparision_df = pd.DataFrame(comparision_dict)\n",
    "comparision_df"
   ]
  },
  {
   "cell_type": "markdown",
   "id": "fe11cc20",
   "metadata": {},
   "source": [
    "**From the above results, we can quite confidently say that for a simple linear model , the numerical value assigned to each amino acid doesn't really impact the model. Thus, this model doesn't help us capture epistasis.**"
   ]
  },
  {
   "cell_type": "code",
   "execution_count": null,
   "id": "79e340e5",
   "metadata": {},
   "outputs": [],
   "source": []
  }
 ],
 "metadata": {
  "kernelspec": {
   "display_name": "Python 3 (ipykernel)",
   "language": "python",
   "name": "python3"
  },
  "language_info": {
   "codemirror_mode": {
    "name": "ipython",
    "version": 3
   },
   "file_extension": ".py",
   "mimetype": "text/x-python",
   "name": "python",
   "nbconvert_exporter": "python",
   "pygments_lexer": "ipython3",
   "version": "3.9.7"
  }
 },
 "nbformat": 4,
 "nbformat_minor": 5
}
