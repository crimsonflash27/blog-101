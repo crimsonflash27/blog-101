{
 "cells": [
  {
   "cell_type": "markdown",
   "id": "5de82916",
   "metadata": {},
   "source": [
    "# \"Linear Regression Continuation\"\n",
    "> \"Mixed Dataset regression\"\n",
    "\n",
    "- toc: true \n",
    "- badges: true\n",
    "- comments: true\n",
    "- categories: [Part-1 - Linear_Regression]\n",
    "\n"
   ]
  },
  {
   "cell_type": "markdown",
   "id": "71dc1083",
   "metadata": {},
   "source": [
    "## Multi-Amino Acid mutants in training set ##\n",
    "\n",
    ">**What if we incorporate the multi-mutants in the training set - can we catch the epistatic interactions?**\n",
    "\n",
    "For this, we will created a mixed dataset consisting of 19 point training dataset(9 switched over from the test set) and 19 point test dataset."
   ]
  },
  {
   "cell_type": "code",
   "execution_count": 29,
   "id": "6c1f1d85",
   "metadata": {},
   "outputs": [],
   "source": [
    "from sklearn.linear_model import LinearRegression\n",
    "from sklearn.metrics import r2_score\n",
    "from scipy.stats import pearsonr\n"
   ]
  },
  {
   "cell_type": "code",
   "execution_count": 17,
   "id": "70ed7e9a",
   "metadata": {},
   "outputs": [
    {
     "name": "stdout",
     "output_type": "stream",
     "text": [
      "28\n",
      "10\n"
     ]
    }
   ],
   "source": [
    "print(len(x_test))\n",
    "print(len(x_train))"
   ]
  },
  {
   "cell_type": "code",
   "execution_count": 18,
   "id": "1ce4f763",
   "metadata": {},
   "outputs": [],
   "source": [
    "#Shifting 9 samples from x_test to x_train\n",
    "new_x_train = np.append(x_train,x_test[:9],axis = 0)\n",
    "new_x_test = x_test[9:]"
   ]
  },
  {
   "cell_type": "markdown",
   "id": "0b7df95f",
   "metadata": {},
   "source": [
    "9 samples are shifted from the test dataset into training, leading us to get 19 samples in each. "
   ]
  },
  {
   "cell_type": "code",
   "execution_count": 19,
   "id": "d5cbb204",
   "metadata": {},
   "outputs": [
    {
     "name": "stdout",
     "output_type": "stream",
     "text": [
      "19\n",
      "19\n"
     ]
    }
   ],
   "source": [
    "print(len(new_x_train))\n",
    "print(len(new_x_test))"
   ]
  },
  {
   "cell_type": "code",
   "execution_count": 20,
   "id": "bf3bfba2",
   "metadata": {},
   "outputs": [],
   "source": [
    "new_y_train = np.append(y_train,y_test[:9],axis = 0)\n",
    "new_y_test = y_test[9:]\n"
   ]
  },
  {
   "cell_type": "code",
   "execution_count": 21,
   "id": "7066dc82",
   "metadata": {},
   "outputs": [
    {
     "name": "stdout",
     "output_type": "stream",
     "text": [
      "19\n",
      "19\n"
     ]
    }
   ],
   "source": [
    "print(len(new_y_train))\n",
    "print(len(new_y_test))"
   ]
  },
  {
   "cell_type": "code",
   "execution_count": 22,
   "id": "f1d08a81",
   "metadata": {},
   "outputs": [
    {
     "data": {
      "text/plain": [
       "LinearRegression()"
      ]
     },
     "execution_count": 22,
     "metadata": {},
     "output_type": "execute_result"
    }
   ],
   "source": [
    "reg = LinearRegression()\n",
    "reg.fit(new_x_train,new_y_train)"
   ]
  },
  {
   "cell_type": "markdown",
   "id": "dc24bd2f",
   "metadata": {},
   "source": [
    "**Training Score:**"
   ]
  },
  {
   "cell_type": "code",
   "execution_count": 23,
   "id": "71d8b744",
   "metadata": {},
   "outputs": [
    {
     "data": {
      "text/plain": [
       "0.9578724069495184"
      ]
     },
     "execution_count": 23,
     "metadata": {},
     "output_type": "execute_result"
    }
   ],
   "source": [
    "reg.score(new_x_train,new_y_train)"
   ]
  },
  {
   "cell_type": "markdown",
   "id": "b422aed7",
   "metadata": {},
   "source": [
    "**Predictions:**"
   ]
  },
  {
   "cell_type": "code",
   "execution_count": 24,
   "id": "f72e4930",
   "metadata": {},
   "outputs": [
    {
     "name": "stdout",
     "output_type": "stream",
     "text": [
      "[-0.96354673 -1.44197695 -0.96881818 -1.50982586 -1.72405634 -2.26506402\n",
      " -1.79190525 -2.27033547 -1.7971767  -2.33818438 -1.42970294 -0.95654417\n",
      " -1.49755186 -1.5028233  -1.78490269 -2.25806146 -2.32591037 -2.33118182\n",
      " -2.31890781]\n"
     ]
    }
   ],
   "source": [
    "prediction_mixed = reg.predict(new_x_test)\n",
    "print(prediction_mixed)"
   ]
  },
  {
   "cell_type": "markdown",
   "id": "3b4ed2ad",
   "metadata": {},
   "source": [
    "**Test Score:**"
   ]
  },
  {
   "cell_type": "code",
   "execution_count": 27,
   "id": "04c72f0d",
   "metadata": {},
   "outputs": [
    {
     "name": "stdout",
     "output_type": "stream",
     "text": [
      "0.733971090323416\n"
     ]
    }
   ],
   "source": [
    "print(r2_score(new_y_test,prediction_mixed))"
   ]
  },
  {
   "cell_type": "markdown",
   "id": "109ef5fb",
   "metadata": {},
   "source": [
    "Pearson Correlation Co-efficient:"
   ]
  },
  {
   "cell_type": "code",
   "execution_count": 30,
   "id": "7b7b52d9",
   "metadata": {},
   "outputs": [
    {
     "name": "stdout",
     "output_type": "stream",
     "text": [
      "Pearsons correlation: 0.909\n"
     ]
    }
   ],
   "source": [
    "corr, _ = pearsonr(new_y_test, prediction_mixed)\n",
    "print('Pearsons correlation: %.3f' % corr)"
   ]
  },
  {
   "cell_type": "code",
   "execution_count": 31,
   "id": "052ad9fc",
   "metadata": {},
   "outputs": [
    {
     "data": {
      "text/plain": [
       "<function matplotlib.pyplot.show(close=None, block=None)>"
      ]
     },
     "execution_count": 31,
     "metadata": {},
     "output_type": "execute_result"
    },
    {
     "data": {
      "image/png": "[encoded data removed]",
      "text/plain": [
       "<Figure size 432x288 with 1 Axes>"
      ]
     },
     "metadata": {
      "needs_background": "light"
     },
     "output_type": "display_data"
    }
   ],
   "source": [
    "plt.scatter(range(1,20),new_y_test,c = \"blue\")\n",
    "plt.plot(range(1,20),prediction_mixed , c=\"red\")\n",
    "plt.xlabel(\"mutant number\")\n",
    "plt.ylabel(\"G - value\")\n",
    "plt.legend([\"predicted\",\"y_test\"])\n",
    "plt.show"
   ]
  },
  {
   "cell_type": "markdown",
   "id": "10fa79a7",
   "metadata": {},
   "source": [
    "**The r2 scores seem quite identical when compared to the unmixed dataset Linear Regression Model. But, that probably isn't the best indicator for measuring this model**"
   ]
  },
  {
   "cell_type": "markdown",
   "id": "d031daca",
   "metadata": {},
   "source": [
    "Now, lets analyse the epistatic interaction prediction of this mixed model:"
   ]
  },
  {
   "cell_type": "code",
   "execution_count": 33,
   "id": "79e340e5",
   "metadata": {},
   "outputs": [],
   "source": [
    "results = pd.read_csv(\"mixed_lr_result.csv\")"
   ]
  },
  {
   "cell_type": "code",
   "execution_count": 35,
   "id": "0fc2d877",
   "metadata": {},
   "outputs": [
    {
     "data": {
      "text/html": [
       "<div>\n",
       "<style scoped>\n",
       "    .dataframe tbody tr th:only-of-type {\n",
       "        vertical-align: middle;\n",
       "    }\n",
       "\n",
       "    .dataframe tbody tr th {\n",
       "        vertical-align: top;\n",
       "    }\n",
       "\n",
       "    .dataframe thead th {\n",
       "        text-align: right;\n",
       "    }\n",
       "</style>\n",
       "<table border=\"1\" class=\"dataframe\">\n",
       "  <thead>\n",
       "    <tr style=\"text-align: right;\">\n",
       "      <th></th>\n",
       "      <th>Actual</th>\n",
       "      <th>Additive</th>\n",
       "      <th>Predictions</th>\n",
       "      <th>Epistatic Prediction</th>\n",
       "    </tr>\n",
       "  </thead>\n",
       "  <tbody>\n",
       "    <tr>\n",
       "      <th>0</th>\n",
       "      <td>-0.98</td>\n",
       "      <td>-1.08</td>\n",
       "      <td>-0.963547</td>\n",
       "      <td>Predicts negative</td>\n",
       "    </tr>\n",
       "    <tr>\n",
       "      <th>1</th>\n",
       "      <td>-1.73</td>\n",
       "      <td>-1.62</td>\n",
       "      <td>-1.441977</td>\n",
       "      <td>Doesn’t predict positive</td>\n",
       "    </tr>\n",
       "    <tr>\n",
       "      <th>2</th>\n",
       "      <td>-0.89</td>\n",
       "      <td>-0.97</td>\n",
       "      <td>-0.968818</td>\n",
       "      <td>Doesn’t predict negative</td>\n",
       "    </tr>\n",
       "    <tr>\n",
       "      <th>3</th>\n",
       "      <td>-1.88</td>\n",
       "      <td>-1.50</td>\n",
       "      <td>-1.509826</td>\n",
       "      <td>Doesn’t predict positive</td>\n",
       "    </tr>\n",
       "    <tr>\n",
       "      <th>4</th>\n",
       "      <td>-1.92</td>\n",
       "      <td>-2.17</td>\n",
       "      <td>-1.724056</td>\n",
       "      <td>Predicts negative</td>\n",
       "    </tr>\n",
       "    <tr>\n",
       "      <th>5</th>\n",
       "      <td>-2.15</td>\n",
       "      <td>-2.70</td>\n",
       "      <td>-2.265064</td>\n",
       "      <td>Predicts negative</td>\n",
       "    </tr>\n",
       "    <tr>\n",
       "      <th>6</th>\n",
       "      <td>-1.96</td>\n",
       "      <td>-2.05</td>\n",
       "      <td>-1.791905</td>\n",
       "      <td>Predicts negative</td>\n",
       "    </tr>\n",
       "    <tr>\n",
       "      <th>7</th>\n",
       "      <td>-2.41</td>\n",
       "      <td>-2.59</td>\n",
       "      <td>-2.270335</td>\n",
       "      <td>Predicts negative</td>\n",
       "    </tr>\n",
       "    <tr>\n",
       "      <th>8</th>\n",
       "      <td>-1.85</td>\n",
       "      <td>-1.94</td>\n",
       "      <td>-1.797177</td>\n",
       "      <td>Predicts negative</td>\n",
       "    </tr>\n",
       "    <tr>\n",
       "      <th>9</th>\n",
       "      <td>-2.37</td>\n",
       "      <td>-2.47</td>\n",
       "      <td>-2.338184</td>\n",
       "      <td>Predicts negative</td>\n",
       "    </tr>\n",
       "    <tr>\n",
       "      <th>10</th>\n",
       "      <td>-1.51</td>\n",
       "      <td>-1.85</td>\n",
       "      <td>-1.429703</td>\n",
       "      <td>Predicts negative</td>\n",
       "    </tr>\n",
       "    <tr>\n",
       "      <th>11</th>\n",
       "      <td>-0.92</td>\n",
       "      <td>-1.20</td>\n",
       "      <td>-0.956544</td>\n",
       "      <td>Predicts negative</td>\n",
       "    </tr>\n",
       "    <tr>\n",
       "      <th>12</th>\n",
       "      <td>-1.75</td>\n",
       "      <td>-1.73</td>\n",
       "      <td>-1.497552</td>\n",
       "      <td>Doesn’t predict positive</td>\n",
       "    </tr>\n",
       "    <tr>\n",
       "      <th>13</th>\n",
       "      <td>-1.74</td>\n",
       "      <td>-1.62</td>\n",
       "      <td>-1.502823</td>\n",
       "      <td>Doesn’t predict positive</td>\n",
       "    </tr>\n",
       "    <tr>\n",
       "      <th>14</th>\n",
       "      <td>-2.57</td>\n",
       "      <td>-2.17</td>\n",
       "      <td>-1.784903</td>\n",
       "      <td>Doesn’t predict positive</td>\n",
       "    </tr>\n",
       "    <tr>\n",
       "      <th>15</th>\n",
       "      <td>-2.09</td>\n",
       "      <td>-2.82</td>\n",
       "      <td>-2.258061</td>\n",
       "      <td>Predicts negative</td>\n",
       "    </tr>\n",
       "    <tr>\n",
       "      <th>16</th>\n",
       "      <td>-2.32</td>\n",
       "      <td>-2.70</td>\n",
       "      <td>-2.325910</td>\n",
       "      <td>Predicts negative</td>\n",
       "    </tr>\n",
       "    <tr>\n",
       "      <th>17</th>\n",
       "      <td>-2.73</td>\n",
       "      <td>-2.59</td>\n",
       "      <td>-2.331182</td>\n",
       "      <td>Doesn’t predict positive</td>\n",
       "    </tr>\n",
       "    <tr>\n",
       "      <th>18</th>\n",
       "      <td>-2.87</td>\n",
       "      <td>-2.82</td>\n",
       "      <td>-2.318908</td>\n",
       "      <td>Doesn’t predict positive</td>\n",
       "    </tr>\n",
       "  </tbody>\n",
       "</table>\n",
       "</div>"
      ],
      "text/plain": [
       "    Actual  Additive  Predictions      Epistatic Prediction\n",
       "0    -0.98     -1.08    -0.963547         Predicts negative\n",
       "1    -1.73     -1.62    -1.441977  Doesn’t predict positive\n",
       "2    -0.89     -0.97    -0.968818  Doesn’t predict negative\n",
       "3    -1.88     -1.50    -1.509826  Doesn’t predict positive\n",
       "4    -1.92     -2.17    -1.724056         Predicts negative\n",
       "5    -2.15     -2.70    -2.265064         Predicts negative\n",
       "6    -1.96     -2.05    -1.791905         Predicts negative\n",
       "7    -2.41     -2.59    -2.270335         Predicts negative\n",
       "8    -1.85     -1.94    -1.797177         Predicts negative\n",
       "9    -2.37     -2.47    -2.338184         Predicts negative\n",
       "10   -1.51     -1.85    -1.429703         Predicts negative\n",
       "11   -0.92     -1.20    -0.956544         Predicts negative\n",
       "12   -1.75     -1.73    -1.497552  Doesn’t predict positive\n",
       "13   -1.74     -1.62    -1.502823  Doesn’t predict positive\n",
       "14   -2.57     -2.17    -1.784903  Doesn’t predict positive\n",
       "15   -2.09     -2.82    -2.258061         Predicts negative\n",
       "16   -2.32     -2.70    -2.325910         Predicts negative\n",
       "17   -2.73     -2.59    -2.331182  Doesn’t predict positive\n",
       "18   -2.87     -2.82    -2.318908  Doesn’t predict positive"
      ]
     },
     "execution_count": 35,
     "metadata": {},
     "output_type": "execute_result"
    }
   ],
   "source": [
    "results"
   ]
  },
  {
   "cell_type": "markdown",
   "id": "16373e51",
   "metadata": {},
   "source": [
    "We can see that though some negative epistatic interactions are getting predicted, none of the postive interactions are. This leads us to explore some other models which might do a better job when it comes to predicting the correct epistatic state."
   ]
  },
  {
   "cell_type": "code",
   "execution_count": null,
   "id": "fb0d669d",
   "metadata": {},
   "outputs": [],
   "source": []
  }
 ],
 "metadata": {
  "kernelspec": {
   "display_name": "Python 3 (ipykernel)",
   "language": "python",
   "name": "python3"
  },
  "language_info": {
   "codemirror_mode": {
    "name": "ipython",
    "version": 3
   },
   "file_extension": ".py",
   "mimetype": "text/x-python",
   "name": "python",
   "nbconvert_exporter": "python",
   "pygments_lexer": "ipython3",
   "version": "3.9.12"
  }
 },
 "nbformat": 4,
 "nbformat_minor": 5
}
